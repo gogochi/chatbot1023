{
  "cells": [
    {
      "metadata": {
        "collapsed": true
      },
      "cell_type": "markdown",
      "source": "# 預測圖書館報名人數"
    },
    {
      "metadata": {},
      "cell_type": "markdown",
      "source": "## import"
    },
    {
      "metadata": {
        "ExecuteTime": {
          "start_time": "2018-10-25T04:32:40.434657Z",
          "end_time": "2018-10-25T04:32:40.460909Z"
        },
        "trusted": true
      },
      "cell_type": "code",
      "source": "# import pandas\nimport pandas as pd\nfrom datetime import datetime\nfrom dateutil import parser",
      "execution_count": 2,
      "outputs": []
    },
    {
      "metadata": {
        "ExecuteTime": {
          "start_time": "2018-10-25T04:32:40.469797Z",
          "end_time": "2018-10-25T04:32:45.931888Z"
        },
        "trusted": true
      },
      "cell_type": "code",
      "source": "# 圖形相關\n%matplotlib inline\nfrom matplotlib.font_manager import FontProperties\nmyfont = FontProperties(fname=r'NotoSerifCJKtc-Black.otf')\n\nimport matplotlib.pyplot as plt\nimport seaborn as sns\nsns.set(font=myfont.get_family())\nsns.set_style(\"whitegrid\",{\"font.sans-serif\":['Microsoft JhengHei']})",
      "execution_count": 3,
      "outputs": []
    },
    {
      "metadata": {},
      "cell_type": "markdown",
      "source": "## 讀取檔案"
    },
    {
      "metadata": {
        "ExecuteTime": {
          "start_time": "2018-10-25T04:32:45.962469Z",
          "end_time": "2018-10-25T04:32:47.750005Z"
        },
        "trusted": true
      },
      "cell_type": "code",
      "source": "library = pd.read_excel('library20181022.xlsx')\nlibrary.head(2)",
      "execution_count": 4,
      "outputs": [
        {
          "output_type": "execute_result",
          "execution_count": 4,
          "data": {
            "text/html": "<div>\n<style scoped>\n    .dataframe tbody tr th:only-of-type {\n        vertical-align: middle;\n    }\n\n    .dataframe tbody tr th {\n        vertical-align: top;\n    }\n\n    .dataframe thead th {\n        text-align: right;\n    }\n</style>\n<table border=\"1\" class=\"dataframe\">\n  <thead>\n    <tr style=\"text-align: right;\">\n      <th></th>\n      <th>tag1</th>\n      <th>tag2</th>\n      <th>課程編號</th>\n      <th>主題</th>\n      <th>講者</th>\n      <th>開始時間</th>\n      <th>結束時間</th>\n      <th>總計分鐘數</th>\n      <th>地點</th>\n      <th>適合對象</th>\n      <th>限制人數</th>\n      <th>已報名人數</th>\n      <th>已爆滿</th>\n      <th>描述</th>\n      <th>講義檔案名稱</th>\n      <th>講義網址</th>\n      <th>網址</th>\n    </tr>\n  </thead>\n  <tbody>\n    <tr>\n      <th>0</th>\n      <td>基礎課程</td>\n      <td>講座</td>\n      <td>SP_103-2-0721(3)</td>\n      <td>以Turnitin自我檢測論文內容之原創性</td>\n      <td>邱稚婷小姐 (智泉國際)</td>\n      <td>2015-07-21T09:00:00+08:00</td>\n      <td>2015-07-21T10:00:00+08:00</td>\n      <td>60.0</td>\n      <td>圖書館三樓資訊素養教室</td>\n      <td>全校師生、中部聯盟學校師生</td>\n      <td>60.0</td>\n      <td>10.0</td>\n      <td>0.0</td>\n      <td>NaN</td>\n      <td>NaN</td>\n      <td>NaN</td>\n      <td>http://web.lib.fcu.edu.tw//ilworkshop/workshop...</td>\n    </tr>\n    <tr>\n      <th>1</th>\n      <td>基礎課程</td>\n      <td>講座</td>\n      <td>SP_103-2-0720(2)</td>\n      <td>不可不知的學位論文著作權</td>\n      <td>麥智德副理 (連邦國際專利商標事務所 )</td>\n      <td>2015-07-20T13:30:00+08:00</td>\n      <td>2015-07-20T15:30:00+08:00</td>\n      <td>120.0</td>\n      <td>圖書館三樓資訊素養教室</td>\n      <td>全校師生、中部聯盟學校師生</td>\n      <td>60.0</td>\n      <td>7.0</td>\n      <td>0.0</td>\n      <td>NaN</td>\n      <td>NaN</td>\n      <td>NaN</td>\n      <td>http://web.lib.fcu.edu.tw//ilworkshop/workshop...</td>\n    </tr>\n  </tbody>\n</table>\n</div>",
            "text/plain": "   tag1 tag2              課程編號                     主題                    講者  \\\n0  基礎課程   講座  SP_103-2-0721(3)  以Turnitin自我檢測論文內容之原創性          邱稚婷小姐 (智泉國際)   \n1  基礎課程   講座  SP_103-2-0720(2)           不可不知的學位論文著作權  麥智德副理 (連邦國際專利商標事務所 )   \n\n                        開始時間                       結束時間  總計分鐘數           地點  \\\n0  2015-07-21T09:00:00+08:00  2015-07-21T10:00:00+08:00   60.0  圖書館三樓資訊素養教室   \n1  2015-07-20T13:30:00+08:00  2015-07-20T15:30:00+08:00  120.0  圖書館三樓資訊素養教室   \n\n            適合對象  限制人數  已報名人數  已爆滿   描述 講義檔案名稱 講義網址  \\\n0  全校師生、中部聯盟學校師生  60.0   10.0  0.0  NaN    NaN  NaN   \n1  全校師生、中部聯盟學校師生  60.0    7.0  0.0  NaN    NaN  NaN   \n\n                                                  網址  \n0  http://web.lib.fcu.edu.tw//ilworkshop/workshop...  \n1  http://web.lib.fcu.edu.tw//ilworkshop/workshop...  "
          },
          "metadata": {}
        }
      ]
    },
    {
      "metadata": {
        "ExecuteTime": {
          "start_time": "2018-10-25T04:32:47.760192Z",
          "end_time": "2018-10-25T04:32:47.787154Z"
        },
        "trusted": true
      },
      "cell_type": "code",
      "source": "# 檔案大小\nlibrary.shape",
      "execution_count": 5,
      "outputs": [
        {
          "output_type": "execute_result",
          "execution_count": 5,
          "data": {
            "text/plain": "(414, 17)"
          },
          "metadata": {}
        }
      ]
    },
    {
      "metadata": {
        "ExecuteTime": {
          "start_time": "2018-10-25T04:32:47.797011Z",
          "end_time": "2018-10-25T04:32:48.598109Z"
        },
        "trusted": true,
        "scrolled": true
      },
      "cell_type": "code",
      "source": "# 描述性統計\nlibrary.describe(include='all')",
      "execution_count": 6,
      "outputs": [
        {
          "output_type": "execute_result",
          "execution_count": 6,
          "data": {
            "text/html": "<div>\n<style scoped>\n    .dataframe tbody tr th:only-of-type {\n        vertical-align: middle;\n    }\n\n    .dataframe tbody tr th {\n        vertical-align: top;\n    }\n\n    .dataframe thead th {\n        text-align: right;\n    }\n</style>\n<table border=\"1\" class=\"dataframe\">\n  <thead>\n    <tr style=\"text-align: right;\">\n      <th></th>\n      <th>tag1</th>\n      <th>tag2</th>\n      <th>課程編號</th>\n      <th>主題</th>\n      <th>講者</th>\n      <th>開始時間</th>\n      <th>結束時間</th>\n      <th>總計分鐘數</th>\n      <th>地點</th>\n      <th>適合對象</th>\n      <th>限制人數</th>\n      <th>已報名人數</th>\n      <th>已爆滿</th>\n      <th>描述</th>\n      <th>講義檔案名稱</th>\n      <th>講義網址</th>\n      <th>網址</th>\n    </tr>\n  </thead>\n  <tbody>\n    <tr>\n      <th>count</th>\n      <td>414</td>\n      <td>414</td>\n      <td>414</td>\n      <td>414</td>\n      <td>414</td>\n      <td>414</td>\n      <td>414</td>\n      <td>246.000000</td>\n      <td>411</td>\n      <td>414</td>\n      <td>374.000000</td>\n      <td>374.000000</td>\n      <td>374.000000</td>\n      <td>336</td>\n      <td>12</td>\n      <td>34</td>\n      <td>414</td>\n    </tr>\n    <tr>\n      <th>unique</th>\n      <td>1</td>\n      <td>6</td>\n      <td>404</td>\n      <td>376</td>\n      <td>184</td>\n      <td>405</td>\n      <td>406</td>\n      <td>NaN</td>\n      <td>6</td>\n      <td>37</td>\n      <td>NaN</td>\n      <td>NaN</td>\n      <td>NaN</td>\n      <td>291</td>\n      <td>9</td>\n      <td>34</td>\n      <td>414</td>\n    </tr>\n    <tr>\n      <th>top</th>\n      <td>基礎課程</td>\n      <td>資訊素養研習(電子資源)</td>\n      <td>IL_105-2-0309</td>\n      <td>逢甲大學學位論文提交說明</td>\n      <td>學院服務館員</td>\n      <td>2016-09-26T15:10:00+08:00</td>\n      <td>2016-09-22T16:00:00+08:00</td>\n      <td>NaN</td>\n      <td>圖書館二樓資訊素養教室</td>\n      <td>全校師生</td>\n      <td>NaN</td>\n      <td>NaN</td>\n      <td>NaN</td>\n      <td>逢甲新鮮人不可錯過的資訊素養課程，圖書館可用的資源及服務，一次說明白。</td>\n      <td>書目管理軟體Zotero簡易操作手冊.pdf</td>\n      <td>http://web.lib.fcu.edu.tw/ilworkshop/sites/web...</td>\n      <td>http://web.lib.fcu.edu.tw//ilworkshop/workshop...</td>\n    </tr>\n    <tr>\n      <th>freq</th>\n      <td>414</td>\n      <td>250</td>\n      <td>2</td>\n      <td>6</td>\n      <td>19</td>\n      <td>2</td>\n      <td>2</td>\n      <td>NaN</td>\n      <td>283</td>\n      <td>337</td>\n      <td>NaN</td>\n      <td>NaN</td>\n      <td>NaN</td>\n      <td>8</td>\n      <td>3</td>\n      <td>1</td>\n      <td>1</td>\n    </tr>\n    <tr>\n      <th>mean</th>\n      <td>NaN</td>\n      <td>NaN</td>\n      <td>NaN</td>\n      <td>NaN</td>\n      <td>NaN</td>\n      <td>NaN</td>\n      <td>NaN</td>\n      <td>117.853659</td>\n      <td>NaN</td>\n      <td>NaN</td>\n      <td>49.521390</td>\n      <td>17.935829</td>\n      <td>0.195187</td>\n      <td>NaN</td>\n      <td>NaN</td>\n      <td>NaN</td>\n      <td>NaN</td>\n    </tr>\n    <tr>\n      <th>std</th>\n      <td>NaN</td>\n      <td>NaN</td>\n      <td>NaN</td>\n      <td>NaN</td>\n      <td>NaN</td>\n      <td>NaN</td>\n      <td>NaN</td>\n      <td>78.843962</td>\n      <td>NaN</td>\n      <td>NaN</td>\n      <td>24.391651</td>\n      <td>16.521045</td>\n      <td>0.396876</td>\n      <td>NaN</td>\n      <td>NaN</td>\n      <td>NaN</td>\n      <td>NaN</td>\n    </tr>\n    <tr>\n      <th>min</th>\n      <td>NaN</td>\n      <td>NaN</td>\n      <td>NaN</td>\n      <td>NaN</td>\n      <td>NaN</td>\n      <td>NaN</td>\n      <td>NaN</td>\n      <td>30.000000</td>\n      <td>NaN</td>\n      <td>NaN</td>\n      <td>1.000000</td>\n      <td>0.000000</td>\n      <td>0.000000</td>\n      <td>NaN</td>\n      <td>NaN</td>\n      <td>NaN</td>\n      <td>NaN</td>\n    </tr>\n    <tr>\n      <th>25%</th>\n      <td>NaN</td>\n      <td>NaN</td>\n      <td>NaN</td>\n      <td>NaN</td>\n      <td>NaN</td>\n      <td>NaN</td>\n      <td>NaN</td>\n      <td>60.000000</td>\n      <td>NaN</td>\n      <td>NaN</td>\n      <td>40.000000</td>\n      <td>3.000000</td>\n      <td>0.000000</td>\n      <td>NaN</td>\n      <td>NaN</td>\n      <td>NaN</td>\n      <td>NaN</td>\n    </tr>\n    <tr>\n      <th>50%</th>\n      <td>NaN</td>\n      <td>NaN</td>\n      <td>NaN</td>\n      <td>NaN</td>\n      <td>NaN</td>\n      <td>NaN</td>\n      <td>NaN</td>\n      <td>110.000000</td>\n      <td>NaN</td>\n      <td>NaN</td>\n      <td>45.000000</td>\n      <td>14.000000</td>\n      <td>0.000000</td>\n      <td>NaN</td>\n      <td>NaN</td>\n      <td>NaN</td>\n      <td>NaN</td>\n    </tr>\n    <tr>\n      <th>75%</th>\n      <td>NaN</td>\n      <td>NaN</td>\n      <td>NaN</td>\n      <td>NaN</td>\n      <td>NaN</td>\n      <td>NaN</td>\n      <td>NaN</td>\n      <td>120.000000</td>\n      <td>NaN</td>\n      <td>NaN</td>\n      <td>60.000000</td>\n      <td>30.000000</td>\n      <td>0.000000</td>\n      <td>NaN</td>\n      <td>NaN</td>\n      <td>NaN</td>\n      <td>NaN</td>\n    </tr>\n    <tr>\n      <th>max</th>\n      <td>NaN</td>\n      <td>NaN</td>\n      <td>NaN</td>\n      <td>NaN</td>\n      <td>NaN</td>\n      <td>NaN</td>\n      <td>NaN</td>\n      <td>420.000000</td>\n      <td>NaN</td>\n      <td>NaN</td>\n      <td>180.000000</td>\n      <td>80.000000</td>\n      <td>1.000000</td>\n      <td>NaN</td>\n      <td>NaN</td>\n      <td>NaN</td>\n      <td>NaN</td>\n    </tr>\n  </tbody>\n</table>\n</div>",
            "text/plain": "        tag1          tag2           課程編號            主題      講者  \\\ncount    414           414            414           414     414   \nunique     1             6            404           376     184   \ntop     基礎課程  資訊素養研習(電子資源)  IL_105-2-0309  逢甲大學學位論文提交說明  學院服務館員   \nfreq     414           250              2             6      19   \nmean     NaN           NaN            NaN           NaN     NaN   \nstd      NaN           NaN            NaN           NaN     NaN   \nmin      NaN           NaN            NaN           NaN     NaN   \n25%      NaN           NaN            NaN           NaN     NaN   \n50%      NaN           NaN            NaN           NaN     NaN   \n75%      NaN           NaN            NaN           NaN     NaN   \nmax      NaN           NaN            NaN           NaN     NaN   \n\n                             開始時間                       結束時間       總計分鐘數  \\\ncount                         414                        414  246.000000   \nunique                        405                        406         NaN   \ntop     2016-09-26T15:10:00+08:00  2016-09-22T16:00:00+08:00         NaN   \nfreq                            2                          2         NaN   \nmean                          NaN                        NaN  117.853659   \nstd                           NaN                        NaN   78.843962   \nmin                           NaN                        NaN   30.000000   \n25%                           NaN                        NaN   60.000000   \n50%                           NaN                        NaN  110.000000   \n75%                           NaN                        NaN  120.000000   \nmax                           NaN                        NaN  420.000000   \n\n                 地點  適合對象        限制人數       已報名人數         已爆滿  \\\ncount           411   414  374.000000  374.000000  374.000000   \nunique            6    37         NaN         NaN         NaN   \ntop     圖書館二樓資訊素養教室  全校師生         NaN         NaN         NaN   \nfreq            283   337         NaN         NaN         NaN   \nmean            NaN   NaN   49.521390   17.935829    0.195187   \nstd             NaN   NaN   24.391651   16.521045    0.396876   \nmin             NaN   NaN    1.000000    0.000000    0.000000   \n25%             NaN   NaN   40.000000    3.000000    0.000000   \n50%             NaN   NaN   45.000000   14.000000    0.000000   \n75%             NaN   NaN   60.000000   30.000000    0.000000   \nmax             NaN   NaN  180.000000   80.000000    1.000000   \n\n                                         描述                  講義檔案名稱  \\\ncount                                   336                      12   \nunique                                  291                       9   \ntop     逢甲新鮮人不可錯過的資訊素養課程，圖書館可用的資源及服務，一次說明白。  書目管理軟體Zotero簡易操作手冊.pdf   \nfreq                                      8                       3   \nmean                                    NaN                     NaN   \nstd                                     NaN                     NaN   \nmin                                     NaN                     NaN   \n25%                                     NaN                     NaN   \n50%                                     NaN                     NaN   \n75%                                     NaN                     NaN   \nmax                                     NaN                     NaN   \n\n                                                     講義網址  \\\ncount                                                  34   \nunique                                                 34   \ntop     http://web.lib.fcu.edu.tw/ilworkshop/sites/web...   \nfreq                                                    1   \nmean                                                  NaN   \nstd                                                   NaN   \nmin                                                   NaN   \n25%                                                   NaN   \n50%                                                   NaN   \n75%                                                   NaN   \nmax                                                   NaN   \n\n                                                       網址  \ncount                                                 414  \nunique                                                414  \ntop     http://web.lib.fcu.edu.tw//ilworkshop/workshop...  \nfreq                                                    1  \nmean                                                  NaN  \nstd                                                   NaN  \nmin                                                   NaN  \n25%                                                   NaN  \n50%                                                   NaN  \n75%                                                   NaN  \nmax                                                   NaN  "
          },
          "metadata": {}
        }
      ]
    },
    {
      "metadata": {
        "ExecuteTime": {
          "start_time": "2018-10-25T04:32:48.612094Z",
          "end_time": "2018-10-25T04:32:48.764917Z"
        },
        "trusted": true,
        "scrolled": true
      },
      "cell_type": "code",
      "source": "library.describe()",
      "execution_count": 7,
      "outputs": [
        {
          "output_type": "execute_result",
          "execution_count": 7,
          "data": {
            "text/html": "<div>\n<style scoped>\n    .dataframe tbody tr th:only-of-type {\n        vertical-align: middle;\n    }\n\n    .dataframe tbody tr th {\n        vertical-align: top;\n    }\n\n    .dataframe thead th {\n        text-align: right;\n    }\n</style>\n<table border=\"1\" class=\"dataframe\">\n  <thead>\n    <tr style=\"text-align: right;\">\n      <th></th>\n      <th>總計分鐘數</th>\n      <th>限制人數</th>\n      <th>已報名人數</th>\n      <th>已爆滿</th>\n    </tr>\n  </thead>\n  <tbody>\n    <tr>\n      <th>count</th>\n      <td>246.000000</td>\n      <td>374.000000</td>\n      <td>374.000000</td>\n      <td>374.000000</td>\n    </tr>\n    <tr>\n      <th>mean</th>\n      <td>117.853659</td>\n      <td>49.521390</td>\n      <td>17.935829</td>\n      <td>0.195187</td>\n    </tr>\n    <tr>\n      <th>std</th>\n      <td>78.843962</td>\n      <td>24.391651</td>\n      <td>16.521045</td>\n      <td>0.396876</td>\n    </tr>\n    <tr>\n      <th>min</th>\n      <td>30.000000</td>\n      <td>1.000000</td>\n      <td>0.000000</td>\n      <td>0.000000</td>\n    </tr>\n    <tr>\n      <th>25%</th>\n      <td>60.000000</td>\n      <td>40.000000</td>\n      <td>3.000000</td>\n      <td>0.000000</td>\n    </tr>\n    <tr>\n      <th>50%</th>\n      <td>110.000000</td>\n      <td>45.000000</td>\n      <td>14.000000</td>\n      <td>0.000000</td>\n    </tr>\n    <tr>\n      <th>75%</th>\n      <td>120.000000</td>\n      <td>60.000000</td>\n      <td>30.000000</td>\n      <td>0.000000</td>\n    </tr>\n    <tr>\n      <th>max</th>\n      <td>420.000000</td>\n      <td>180.000000</td>\n      <td>80.000000</td>\n      <td>1.000000</td>\n    </tr>\n  </tbody>\n</table>\n</div>",
            "text/plain": "            總計分鐘數        限制人數       已報名人數         已爆滿\ncount  246.000000  374.000000  374.000000  374.000000\nmean   117.853659   49.521390   17.935829    0.195187\nstd     78.843962   24.391651   16.521045    0.396876\nmin     30.000000    1.000000    0.000000    0.000000\n25%     60.000000   40.000000    3.000000    0.000000\n50%    110.000000   45.000000   14.000000    0.000000\n75%    120.000000   60.000000   30.000000    0.000000\nmax    420.000000  180.000000   80.000000    1.000000"
          },
          "metadata": {}
        }
      ]
    },
    {
      "metadata": {},
      "cell_type": "markdown",
      "source": "## 前處理"
    },
    {
      "metadata": {},
      "cell_type": "markdown",
      "source": "### 處理 missing value  \n03.04-Handling Missing Data  \nhttps://github.com/jakevdp/PythonDataScienceHandbook/blob/97c8c91c5932f2b2a58bb97c000506f636ee661a/notebooks/03.04-Missing-Values.ipynb  "
    },
    {
      "metadata": {
        "ExecuteTime": {
          "start_time": "2018-10-25T04:32:48.776357Z",
          "end_time": "2018-10-25T04:32:48.962777Z"
        },
        "trusted": true
      },
      "cell_type": "code",
      "source": "library[library['限制人數'].isnull()].head(2)",
      "execution_count": 8,
      "outputs": [
        {
          "output_type": "execute_result",
          "execution_count": 8,
          "data": {
            "text/html": "<div>\n<style scoped>\n    .dataframe tbody tr th:only-of-type {\n        vertical-align: middle;\n    }\n\n    .dataframe tbody tr th {\n        vertical-align: top;\n    }\n\n    .dataframe thead th {\n        text-align: right;\n    }\n</style>\n<table border=\"1\" class=\"dataframe\">\n  <thead>\n    <tr style=\"text-align: right;\">\n      <th></th>\n      <th>tag1</th>\n      <th>tag2</th>\n      <th>課程編號</th>\n      <th>主題</th>\n      <th>講者</th>\n      <th>開始時間</th>\n      <th>結束時間</th>\n      <th>總計分鐘數</th>\n      <th>地點</th>\n      <th>適合對象</th>\n      <th>限制人數</th>\n      <th>已報名人數</th>\n      <th>已爆滿</th>\n      <th>描述</th>\n      <th>講義檔案名稱</th>\n      <th>講義網址</th>\n      <th>網址</th>\n    </tr>\n  </thead>\n  <tbody>\n    <tr>\n      <th>9</th>\n      <td>基礎課程</td>\n      <td>線上講堂</td>\n      <td>IL_103-2-online 5</td>\n      <td>103學年度論文提交說明會</td>\n      <td>館員 蔡幸珮</td>\n      <td>2015-05-30T10:57:00+08:00</td>\n      <td>2015-09-30T10:57:00+08:00</td>\n      <td>32.0</td>\n      <td>線上課程</td>\n      <td>研究生</td>\n      <td>NaN</td>\n      <td>NaN</td>\n      <td>NaN</td>\n      <td>本課程介紹本校博碩士畢業論文繳交程序，包含論文格式審查、系統提交流程及相關注意事項。</td>\n      <td>NaN</td>\n      <td>NaN</td>\n      <td>http://web.lib.fcu.edu.tw//ilworkshop/workshop...</td>\n    </tr>\n    <tr>\n      <th>16</th>\n      <td>基礎課程</td>\n      <td>特約研習</td>\n      <td>IL_106-2-A01</td>\n      <td>圖書館資源利用課程 / Customized Library Instruction</td>\n      <td>專業館員 (Reference Librarian)</td>\n      <td>2018-08-01T09:00:00+08:00</td>\n      <td>2019-07-31T17:00:00+08:00</td>\n      <td>NaN</td>\n      <td>NaN</td>\n      <td>全校師生 (Faculty and Students)</td>\n      <td>NaN</td>\n      <td>NaN</td>\n      <td>NaN</td>\n      <td>※ 請於7天前提出申請。\\n※ 上課人數至少5人以上。\\n※ 請提供2個以上的上課日期與時間...</td>\n      <td>NaN</td>\n      <td>NaN</td>\n      <td>http://web.lib.fcu.edu.tw//ilworkshop/workshop...</td>\n    </tr>\n  </tbody>\n</table>\n</div>",
            "text/plain": "    tag1  tag2               課程編號                                          主題  \\\n9   基礎課程  線上講堂  IL_103-2-online 5                               103學年度論文提交說明會   \n16  基礎課程  特約研習       IL_106-2-A01  圖書館資源利用課程 / Customized Library Instruction   \n\n                            講者                       開始時間  \\\n9                       館員 蔡幸珮  2015-05-30T10:57:00+08:00   \n16  專業館員 (Reference Librarian)  2018-08-01T09:00:00+08:00   \n\n                         結束時間  總計分鐘數    地點                         適合對象  限制人數  \\\n9   2015-09-30T10:57:00+08:00   32.0  線上課程                          研究生   NaN   \n16  2019-07-31T17:00:00+08:00    NaN   NaN  全校師生 (Faculty and Students)   NaN   \n\n    已報名人數  已爆滿                                                 描述 講義檔案名稱 講義網址  \\\n9     NaN  NaN         本課程介紹本校博碩士畢業論文繳交程序，包含論文格式審查、系統提交流程及相關注意事項。    NaN  NaN   \n16    NaN  NaN  ※ 請於7天前提出申請。\\n※ 上課人數至少5人以上。\\n※ 請提供2個以上的上課日期與時間...    NaN  NaN   \n\n                                                   網址  \n9   http://web.lib.fcu.edu.tw//ilworkshop/workshop...  \n16  http://web.lib.fcu.edu.tw//ilworkshop/workshop...  "
          },
          "metadata": {}
        }
      ]
    },
    {
      "metadata": {
        "ExecuteTime": {
          "start_time": "2018-10-25T04:32:48.970824Z",
          "end_time": "2018-10-25T04:32:49.160898Z"
        },
        "trusted": true
      },
      "cell_type": "code",
      "source": "library[library['限制人數'].notnull()].shape",
      "execution_count": 9,
      "outputs": [
        {
          "output_type": "execute_result",
          "execution_count": 9,
          "data": {
            "text/plain": "(374, 17)"
          },
          "metadata": {}
        }
      ]
    },
    {
      "metadata": {
        "ExecuteTime": {
          "start_time": "2018-10-25T04:32:49.16868Z",
          "end_time": "2018-10-25T04:32:49.37176Z"
        },
        "trusted": true
      },
      "cell_type": "code",
      "source": "# 丟棄限制人數 = NaN \nlibrary = library.dropna(subset=['限制人數'])\nlibrary.shape",
      "execution_count": 10,
      "outputs": [
        {
          "output_type": "execute_result",
          "execution_count": 10,
          "data": {
            "text/plain": "(374, 17)"
          },
          "metadata": {}
        }
      ]
    },
    {
      "metadata": {},
      "cell_type": "markdown",
      "source": "#### 練習  \n答案 (357, 17)  \n參考 https://notebooks.azure.com/fcu-liu/libraries/socialbot/html/01-python/03-panda.ipynb  "
    },
    {
      "metadata": {
        "ExecuteTime": {
          "start_time": "2018-10-25T04:32:49.374748Z",
          "end_time": "2018-10-25T04:32:49.808612Z"
        },
        "trusted": true
      },
      "cell_type": "code",
      "source": "# 限制人數一定要大於等於 10 \nlibrary = library[library['限制人數']>=10]\nlibrary.shape",
      "execution_count": 11,
      "outputs": [
        {
          "output_type": "execute_result",
          "execution_count": 11,
          "data": {
            "text/plain": "(357, 17)"
          },
          "metadata": {}
        }
      ]
    },
    {
      "metadata": {},
      "cell_type": "markdown",
      "source": "### 新增報名比率  \n報名比率 = 已報名人數/限制人數  "
    },
    {
      "metadata": {
        "ExecuteTime": {
          "start_time": "2018-10-25T04:32:49.819587Z",
          "end_time": "2018-10-25T04:32:50.582151Z"
        },
        "trusted": true
      },
      "cell_type": "code",
      "source": "# 報名比率 = 已報名人數/限制人數  \nlibrary['報名比率'] = library['已報名人數']/library['限制人數']\n(library['報名比率']*100).round(0).astype(int).head(2)",
      "execution_count": 12,
      "outputs": [
        {
          "output_type": "execute_result",
          "execution_count": 12,
          "data": {
            "text/plain": "0    17\n1    12\nName: 報名比率, dtype: int64"
          },
          "metadata": {}
        }
      ]
    },
    {
      "metadata": {
        "ExecuteTime": {
          "start_time": "2018-10-25T04:32:50.601299Z",
          "end_time": "2018-10-25T04:32:50.619755Z"
        },
        "trusted": true
      },
      "cell_type": "code",
      "source": "type(library.loc[0,'限制人數'])",
      "execution_count": 13,
      "outputs": [
        {
          "output_type": "execute_result",
          "execution_count": 13,
          "data": {
            "text/plain": "numpy.float64"
          },
          "metadata": {}
        }
      ]
    },
    {
      "metadata": {
        "trusted": true,
        "ExecuteTime": {
          "start_time": "2018-10-25T04:32:50.635279Z",
          "end_time": "2018-10-25T04:32:50.844593Z"
        }
      },
      "cell_type": "code",
      "source": "# 將 限制人數、已報名人數、已爆滿 設定為int\nlibrary['限制人數'] = library['限制人數'].astype(int)\nlibrary['已報名人數'] = library['已報名人數'].astype(int)\nlibrary['已爆滿'] = library['已爆滿'].astype(int)\ntype(library.loc[0,'限制人數'])",
      "execution_count": 14,
      "outputs": [
        {
          "output_type": "execute_result",
          "execution_count": 14,
          "data": {
            "text/plain": "numpy.int64"
          },
          "metadata": {}
        }
      ]
    },
    {
      "metadata": {},
      "cell_type": "markdown",
      "source": "### 設定時間格式"
    },
    {
      "metadata": {
        "ExecuteTime": {
          "start_time": "2018-10-25T04:32:50.860361Z",
          "end_time": "2018-10-25T04:32:51.106841Z"
        },
        "trusted": true
      },
      "cell_type": "code",
      "source": "print(library.loc[0,'開始時間'])\ntype(library.loc[0,'開始時間'])",
      "execution_count": 15,
      "outputs": [
        {
          "output_type": "stream",
          "text": "2015-07-21T09:00:00+08:00\n",
          "name": "stdout"
        },
        {
          "output_type": "execute_result",
          "execution_count": 15,
          "data": {
            "text/plain": "str"
          },
          "metadata": {}
        }
      ]
    },
    {
      "metadata": {
        "ExecuteTime": {
          "start_time": "2018-10-25T04:32:51.116732Z",
          "end_time": "2018-10-25T04:32:51.388093Z"
        },
        "trusted": true
      },
      "cell_type": "code",
      "source": "# 設為時間格式\nlibrary['開始時間'] =  pd.to_datetime(library['開始時間'])\nlibrary['結束時間'] =  pd.to_datetime(library['結束時間'])\ntype(library.loc[0,'開始時間'])",
      "execution_count": 16,
      "outputs": [
        {
          "output_type": "execute_result",
          "execution_count": 16,
          "data": {
            "text/plain": "pandas._libs.tslibs.timestamps.Timestamp"
          },
          "metadata": {}
        }
      ]
    },
    {
      "metadata": {
        "ExecuteTime": {
          "start_time": "2018-10-25T04:32:51.391294Z",
          "end_time": "2018-10-25T04:32:51.749313Z"
        },
        "trusted": true
      },
      "cell_type": "code",
      "source": "library = library.sort_values(by='開始時間')\nlibrary.head(2)",
      "execution_count": 17,
      "outputs": [
        {
          "output_type": "execute_result",
          "execution_count": 17,
          "data": {
            "text/html": "<div>\n<style scoped>\n    .dataframe tbody tr th:only-of-type {\n        vertical-align: middle;\n    }\n\n    .dataframe tbody tr th {\n        vertical-align: top;\n    }\n\n    .dataframe thead th {\n        text-align: right;\n    }\n</style>\n<table border=\"1\" class=\"dataframe\">\n  <thead>\n    <tr style=\"text-align: right;\">\n      <th></th>\n      <th>tag1</th>\n      <th>tag2</th>\n      <th>課程編號</th>\n      <th>主題</th>\n      <th>講者</th>\n      <th>開始時間</th>\n      <th>結束時間</th>\n      <th>總計分鐘數</th>\n      <th>地點</th>\n      <th>適合對象</th>\n      <th>限制人數</th>\n      <th>已報名人數</th>\n      <th>已爆滿</th>\n      <th>描述</th>\n      <th>講義檔案名稱</th>\n      <th>講義網址</th>\n      <th>網址</th>\n      <th>報名比率</th>\n    </tr>\n  </thead>\n  <tbody>\n    <tr>\n      <th>23</th>\n      <td>基礎課程</td>\n      <td>資訊素養研習(電子資源)</td>\n      <td>1031A0918</td>\n      <td>法商資料庫研習-Lexis.com, LexisNexis Academic</td>\n      <td>碩睿資訊 林振煌先生</td>\n      <td>2014-09-17 21:10:00</td>\n      <td>2014-09-17 23:00:00</td>\n      <td>NaN</td>\n      <td>圖書館二樓資訊素養教室</td>\n      <td>全校師生</td>\n      <td>60</td>\n      <td>0</td>\n      <td>0</td>\n      <td>介紹法學資料庫Lexis.com及法商資料庫LexisNexis Academic的內容與搜...</td>\n      <td>NaN</td>\n      <td>NaN</td>\n      <td>http://web.lib.fcu.edu.tw//ilworkshop/workshop...</td>\n      <td>0.0</td>\n    </tr>\n    <tr>\n      <th>400</th>\n      <td>基礎課程</td>\n      <td>媒體科技研習</td>\n      <td>m20140903</td>\n      <td>影片拍攝與剪輯入門</td>\n      <td>孫藩沿, 陳浚卿</td>\n      <td>2014-09-23 20:00:00</td>\n      <td>2014-09-23 22:00:00</td>\n      <td>NaN</td>\n      <td>圖書館二樓資訊素養教室</td>\n      <td>全校師生</td>\n      <td>24</td>\n      <td>0</td>\n      <td>0</td>\n      <td>NaN</td>\n      <td>NaN</td>\n      <td>NaN</td>\n      <td>http://web.lib.fcu.edu.tw//ilworkshop/workshop...</td>\n      <td>0.0</td>\n    </tr>\n  </tbody>\n</table>\n</div>",
            "text/plain": "     tag1          tag2       課程編號                                      主題  \\\n23   基礎課程  資訊素養研習(電子資源)  1031A0918  法商資料庫研習-Lexis.com, LexisNexis Academic   \n400  基礎課程        媒體科技研習  m20140903                               影片拍攝與剪輯入門   \n\n             講者                開始時間                結束時間  總計分鐘數           地點  \\\n23   碩睿資訊 林振煌先生 2014-09-17 21:10:00 2014-09-17 23:00:00    NaN  圖書館二樓資訊素養教室   \n400    孫藩沿, 陳浚卿 2014-09-23 20:00:00 2014-09-23 22:00:00    NaN  圖書館二樓資訊素養教室   \n\n     適合對象  限制人數  已報名人數  已爆滿  \\\n23   全校師生    60      0    0   \n400  全校師生    24      0    0   \n\n                                                    描述 講義檔案名稱 講義網址  \\\n23   介紹法學資料庫Lexis.com及法商資料庫LexisNexis Academic的內容與搜...    NaN  NaN   \n400                                                NaN    NaN  NaN   \n\n                                                    網址  報名比率  \n23   http://web.lib.fcu.edu.tw//ilworkshop/workshop...   0.0  \n400  http://web.lib.fcu.edu.tw//ilworkshop/workshop...   0.0  "
          },
          "metadata": {}
        }
      ]
    },
    {
      "metadata": {},
      "cell_type": "markdown",
      "source": "### 總計分鐘數遺漏值，使用fillna"
    },
    {
      "metadata": {
        "ExecuteTime": {
          "start_time": "2018-10-25T04:32:51.754385Z",
          "end_time": "2018-10-25T04:32:51.985859Z"
        },
        "trusted": true
      },
      "cell_type": "code",
      "source": "library[library['總計分鐘數'].isnull()].head(2)",
      "execution_count": 18,
      "outputs": [
        {
          "output_type": "execute_result",
          "execution_count": 18,
          "data": {
            "text/html": "<div>\n<style scoped>\n    .dataframe tbody tr th:only-of-type {\n        vertical-align: middle;\n    }\n\n    .dataframe tbody tr th {\n        vertical-align: top;\n    }\n\n    .dataframe thead th {\n        text-align: right;\n    }\n</style>\n<table border=\"1\" class=\"dataframe\">\n  <thead>\n    <tr style=\"text-align: right;\">\n      <th></th>\n      <th>tag1</th>\n      <th>tag2</th>\n      <th>課程編號</th>\n      <th>主題</th>\n      <th>講者</th>\n      <th>開始時間</th>\n      <th>結束時間</th>\n      <th>總計分鐘數</th>\n      <th>地點</th>\n      <th>適合對象</th>\n      <th>限制人數</th>\n      <th>已報名人數</th>\n      <th>已爆滿</th>\n      <th>描述</th>\n      <th>講義檔案名稱</th>\n      <th>講義網址</th>\n      <th>網址</th>\n      <th>報名比率</th>\n    </tr>\n  </thead>\n  <tbody>\n    <tr>\n      <th>23</th>\n      <td>基礎課程</td>\n      <td>資訊素養研習(電子資源)</td>\n      <td>1031A0918</td>\n      <td>法商資料庫研習-Lexis.com, LexisNexis Academic</td>\n      <td>碩睿資訊 林振煌先生</td>\n      <td>2014-09-17 21:10:00</td>\n      <td>2014-09-17 23:00:00</td>\n      <td>NaN</td>\n      <td>圖書館二樓資訊素養教室</td>\n      <td>全校師生</td>\n      <td>60</td>\n      <td>0</td>\n      <td>0</td>\n      <td>介紹法學資料庫Lexis.com及法商資料庫LexisNexis Academic的內容與搜...</td>\n      <td>NaN</td>\n      <td>NaN</td>\n      <td>http://web.lib.fcu.edu.tw//ilworkshop/workshop...</td>\n      <td>0.0</td>\n    </tr>\n    <tr>\n      <th>400</th>\n      <td>基礎課程</td>\n      <td>媒體科技研習</td>\n      <td>m20140903</td>\n      <td>影片拍攝與剪輯入門</td>\n      <td>孫藩沿, 陳浚卿</td>\n      <td>2014-09-23 20:00:00</td>\n      <td>2014-09-23 22:00:00</td>\n      <td>NaN</td>\n      <td>圖書館二樓資訊素養教室</td>\n      <td>全校師生</td>\n      <td>24</td>\n      <td>0</td>\n      <td>0</td>\n      <td>NaN</td>\n      <td>NaN</td>\n      <td>NaN</td>\n      <td>http://web.lib.fcu.edu.tw//ilworkshop/workshop...</td>\n      <td>0.0</td>\n    </tr>\n  </tbody>\n</table>\n</div>",
            "text/plain": "     tag1          tag2       課程編號                                      主題  \\\n23   基礎課程  資訊素養研習(電子資源)  1031A0918  法商資料庫研習-Lexis.com, LexisNexis Academic   \n400  基礎課程        媒體科技研習  m20140903                               影片拍攝與剪輯入門   \n\n             講者                開始時間                結束時間  總計分鐘數           地點  \\\n23   碩睿資訊 林振煌先生 2014-09-17 21:10:00 2014-09-17 23:00:00    NaN  圖書館二樓資訊素養教室   \n400    孫藩沿, 陳浚卿 2014-09-23 20:00:00 2014-09-23 22:00:00    NaN  圖書館二樓資訊素養教室   \n\n     適合對象  限制人數  已報名人數  已爆滿  \\\n23   全校師生    60      0    0   \n400  全校師生    24      0    0   \n\n                                                    描述 講義檔案名稱 講義網址  \\\n23   介紹法學資料庫Lexis.com及法商資料庫LexisNexis Academic的內容與搜...    NaN  NaN   \n400                                                NaN    NaN  NaN   \n\n                                                    網址  報名比率  \n23   http://web.lib.fcu.edu.tw//ilworkshop/workshop...   0.0  \n400  http://web.lib.fcu.edu.tw//ilworkshop/workshop...   0.0  "
          },
          "metadata": {}
        }
      ]
    },
    {
      "metadata": {
        "ExecuteTime": {
          "start_time": "2018-10-25T04:32:51.998009Z",
          "end_time": "2018-10-25T04:32:52.196938Z"
        },
        "trusted": true
      },
      "cell_type": "code",
      "source": "# 總計分鐘數 = 結束時間 - 開始時間\n# fillna\nlibrary['總計分鐘數'] = library['總計分鐘數'].fillna(\n    (library['結束時間']-library['開始時間']).dt.total_seconds()/60)\nlibrary[library['總計分鐘數'].isnull()].shape",
      "execution_count": 19,
      "outputs": [
        {
          "output_type": "execute_result",
          "execution_count": 19,
          "data": {
            "text/plain": "(0, 18)"
          },
          "metadata": {}
        }
      ]
    },
    {
      "metadata": {
        "ExecuteTime": {
          "start_time": "2018-10-25T04:32:52.203244Z",
          "end_time": "2018-10-25T04:32:52.395676Z"
        },
        "trusted": true
      },
      "cell_type": "code",
      "source": "library['總計分鐘數'] = library['總計分鐘數'].astype(int)\nlibrary['總計分鐘數'].head(2)",
      "execution_count": 20,
      "outputs": [
        {
          "output_type": "execute_result",
          "execution_count": 20,
          "data": {
            "text/plain": "23     110\n400    120\nName: 總計分鐘數, dtype: int64"
          },
          "metadata": {}
        }
      ]
    },
    {
      "metadata": {},
      "cell_type": "markdown",
      "source": "### 地點遺缺值處理"
    },
    {
      "metadata": {
        "ExecuteTime": {
          "start_time": "2018-10-25T04:32:52.401954Z",
          "end_time": "2018-10-25T04:32:52.652465Z"
        },
        "trusted": true
      },
      "cell_type": "code",
      "source": "# 列印多少地點遺缺值\n# 答案 (2, 18)\nlibrary[library['地點'].isnull()].shape",
      "execution_count": 21,
      "outputs": [
        {
          "output_type": "execute_result",
          "execution_count": 21,
          "data": {
            "text/plain": "(2, 18)"
          },
          "metadata": {}
        }
      ]
    },
    {
      "metadata": {
        "ExecuteTime": {
          "start_time": "2018-10-25T04:32:52.662531Z",
          "end_time": "2018-10-25T04:32:52.947953Z"
        },
        "trusted": true
      },
      "cell_type": "code",
      "source": "library[library['地點'].isnull()]",
      "execution_count": 22,
      "outputs": [
        {
          "output_type": "execute_result",
          "execution_count": 22,
          "data": {
            "text/html": "<div>\n<style scoped>\n    .dataframe tbody tr th:only-of-type {\n        vertical-align: middle;\n    }\n\n    .dataframe tbody tr th {\n        vertical-align: top;\n    }\n\n    .dataframe thead th {\n        text-align: right;\n    }\n</style>\n<table border=\"1\" class=\"dataframe\">\n  <thead>\n    <tr style=\"text-align: right;\">\n      <th></th>\n      <th>tag1</th>\n      <th>tag2</th>\n      <th>課程編號</th>\n      <th>主題</th>\n      <th>講者</th>\n      <th>開始時間</th>\n      <th>結束時間</th>\n      <th>總計分鐘數</th>\n      <th>地點</th>\n      <th>適合對象</th>\n      <th>限制人數</th>\n      <th>已報名人數</th>\n      <th>已爆滿</th>\n      <th>描述</th>\n      <th>講義檔案名稱</th>\n      <th>講義網址</th>\n      <th>網址</th>\n      <th>報名比率</th>\n    </tr>\n  </thead>\n  <tbody>\n    <tr>\n      <th>347</th>\n      <td>基礎課程</td>\n      <td>其他</td>\n      <td>MOCCS_20151007</td>\n      <td>翻轉教室之複利數學</td>\n      <td>楊菁菁老師</td>\n      <td>2015-10-07 06:00:00</td>\n      <td>2015-10-07 07:00:00</td>\n      <td>60</td>\n      <td>NaN</td>\n      <td>全校師生</td>\n      <td>60</td>\n      <td>14</td>\n      <td>0</td>\n      <td>本場次邀請本校應數系楊菁菁老師分享「複利數學」這門課程線上教材的製作與拍攝，以及線上課程與實...</td>\n      <td>NaN</td>\n      <td>NaN</td>\n      <td>http://web.lib.fcu.edu.tw//ilworkshop/workshop...</td>\n      <td>0.233333</td>\n    </tr>\n    <tr>\n      <th>104</th>\n      <td>基礎課程</td>\n      <td>資訊素養研習(電子資源)</td>\n      <td>IL_106-2_0321-02</td>\n      <td>逢甲大學學位論文提交說明 (期初場)</td>\n      <td>學院服務館員_林瑋琦</td>\n      <td>2018-03-21 06:10:00</td>\n      <td>2018-03-21 08:00:00</td>\n      <td>110</td>\n      <td>NaN</td>\n      <td>研究生</td>\n      <td>50</td>\n      <td>28</td>\n      <td>0</td>\n      <td>傻傻搞不清提交流程、授權書、論文格式、書背、上傳系統嗎?讓你一聽就上手的學位論文提交說明!提...</td>\n      <td>NaN</td>\n      <td>NaN</td>\n      <td>http://web.lib.fcu.edu.tw//ilworkshop/workshop...</td>\n      <td>0.560000</td>\n    </tr>\n  </tbody>\n</table>\n</div>",
            "text/plain": "     tag1          tag2              課程編號                  主題          講者  \\\n347  基礎課程            其他    MOCCS_20151007           翻轉教室之複利數學       楊菁菁老師   \n104  基礎課程  資訊素養研習(電子資源)  IL_106-2_0321-02  逢甲大學學位論文提交說明 (期初場)  學院服務館員_林瑋琦   \n\n                   開始時間                結束時間  總計分鐘數   地點  適合對象  限制人數  已報名人數  \\\n347 2015-10-07 06:00:00 2015-10-07 07:00:00     60  NaN  全校師生    60     14   \n104 2018-03-21 06:10:00 2018-03-21 08:00:00    110  NaN   研究生    50     28   \n\n     已爆滿                                                 描述 講義檔案名稱 講義網址  \\\n347    0  本場次邀請本校應數系楊菁菁老師分享「複利數學」這門課程線上教材的製作與拍攝，以及線上課程與實...    NaN  NaN   \n104    0  傻傻搞不清提交流程、授權書、論文格式、書背、上傳系統嗎?讓你一聽就上手的學位論文提交說明!提...    NaN  NaN   \n\n                                                    網址      報名比率  \n347  http://web.lib.fcu.edu.tw//ilworkshop/workshop...  0.233333  \n104  http://web.lib.fcu.edu.tw//ilworkshop/workshop...  0.560000  "
          },
          "metadata": {}
        }
      ]
    },
    {
      "metadata": {
        "ExecuteTime": {
          "start_time": "2018-10-25T04:32:52.95202Z",
          "end_time": "2018-10-25T04:32:53.109601Z"
        },
        "trusted": true
      },
      "cell_type": "code",
      "source": "# 丟棄底點的遺缺值\n# 答案 (336, 18)\nlibrary = library.dropna(subset=['地點'])\nlibrary.shape",
      "execution_count": 23,
      "outputs": [
        {
          "output_type": "execute_result",
          "execution_count": 23,
          "data": {
            "text/plain": "(355, 18)"
          },
          "metadata": {}
        }
      ]
    },
    {
      "metadata": {},
      "cell_type": "markdown",
      "source": "#### 不丟棄改成填值為 \"無地點\"\n\n    library['地點'] = library['地點'].fillna('無地點')  \n    library[library['地點'].isnull()].shape  "
    },
    {
      "metadata": {},
      "cell_type": "markdown",
      "source": "### 其他遺缺值檢查"
    },
    {
      "metadata": {
        "ExecuteTime": {
          "start_time": "2018-10-25T04:32:53.115171Z",
          "end_time": "2018-10-25T04:32:53.342147Z"
        },
        "trusted": true
      },
      "cell_type": "code",
      "source": "library[library['適合對象'].isnull()].shape",
      "execution_count": 24,
      "outputs": [
        {
          "output_type": "execute_result",
          "execution_count": 24,
          "data": {
            "text/plain": "(0, 18)"
          },
          "metadata": {}
        }
      ]
    },
    {
      "metadata": {
        "ExecuteTime": {
          "start_time": "2018-10-25T04:32:53.349321Z",
          "end_time": "2018-10-25T04:32:53.682764Z"
        },
        "trusted": true
      },
      "cell_type": "code",
      "source": "library[library['描述'].isnull()].shape",
      "execution_count": 25,
      "outputs": [
        {
          "output_type": "execute_result",
          "execution_count": 25,
          "data": {
            "text/plain": "(48, 18)"
          },
          "metadata": {}
        }
      ]
    },
    {
      "metadata": {},
      "cell_type": "markdown",
      "source": "# 高斯樸素貝氏預測  \n\n05.05-Naive-Bayes.ipynb  \nhttps://github.com/jakevdp/PythonDataScienceHandbook/blob/97c8c91c5932f2b2a58bb97c000506f636ee661a/notebooks/05.05-Naive-Bayes.ipynb"
    },
    {
      "metadata": {
        "ExecuteTime": {
          "start_time": "2018-10-25T04:35:21.97967Z",
          "end_time": "2018-10-25T04:35:22.253142Z"
        },
        "trusted": true
      },
      "cell_type": "code",
      "source": "library.describe()",
      "execution_count": 28,
      "outputs": [
        {
          "output_type": "execute_result",
          "execution_count": 28,
          "data": {
            "text/html": "<div>\n<style scoped>\n    .dataframe tbody tr th:only-of-type {\n        vertical-align: middle;\n    }\n\n    .dataframe tbody tr th {\n        vertical-align: top;\n    }\n\n    .dataframe thead th {\n        text-align: right;\n    }\n</style>\n<table border=\"1\" class=\"dataframe\">\n  <thead>\n    <tr style=\"text-align: right;\">\n      <th></th>\n      <th>總計分鐘數</th>\n      <th>限制人數</th>\n      <th>已報名人數</th>\n      <th>已爆滿</th>\n      <th>報名比率</th>\n      <th>dayofweek</th>\n      <th>month</th>\n    </tr>\n  </thead>\n  <tbody>\n    <tr>\n      <th>count</th>\n      <td>355.000000</td>\n      <td>355.000000</td>\n      <td>355.000000</td>\n      <td>355.000000</td>\n      <td>355.000000</td>\n      <td>355.000000</td>\n      <td>355.000000</td>\n    </tr>\n    <tr>\n      <th>mean</th>\n      <td>114.591549</td>\n      <td>51.791549</td>\n      <td>18.712676</td>\n      <td>0.163380</td>\n      <td>0.409858</td>\n      <td>1.828169</td>\n      <td>7.501408</td>\n    </tr>\n    <tr>\n      <th>std</th>\n      <td>71.690952</td>\n      <td>22.594471</td>\n      <td>16.535588</td>\n      <td>0.370234</td>\n      <td>0.358193</td>\n      <td>1.365969</td>\n      <td>3.075670</td>\n    </tr>\n    <tr>\n      <th>min</th>\n      <td>40.000000</td>\n      <td>10.000000</td>\n      <td>0.000000</td>\n      <td>0.000000</td>\n      <td>0.000000</td>\n      <td>0.000000</td>\n      <td>1.000000</td>\n    </tr>\n    <tr>\n      <th>25%</th>\n      <td>60.000000</td>\n      <td>40.000000</td>\n      <td>4.000000</td>\n      <td>0.000000</td>\n      <td>0.075000</td>\n      <td>1.000000</td>\n      <td>5.000000</td>\n    </tr>\n    <tr>\n      <th>50%</th>\n      <td>110.000000</td>\n      <td>50.000000</td>\n      <td>15.000000</td>\n      <td>0.000000</td>\n      <td>0.300000</td>\n      <td>2.000000</td>\n      <td>9.000000</td>\n    </tr>\n    <tr>\n      <th>75%</th>\n      <td>135.000000</td>\n      <td>60.000000</td>\n      <td>30.000000</td>\n      <td>0.000000</td>\n      <td>0.700000</td>\n      <td>3.000000</td>\n      <td>10.000000</td>\n    </tr>\n    <tr>\n      <th>max</th>\n      <td>420.000000</td>\n      <td>180.000000</td>\n      <td>80.000000</td>\n      <td>1.000000</td>\n      <td>1.000000</td>\n      <td>6.000000</td>\n      <td>12.000000</td>\n    </tr>\n  </tbody>\n</table>\n</div>",
            "text/plain": "            總計分鐘數        限制人數       已報名人數         已爆滿        報名比率   dayofweek  \\\ncount  355.000000  355.000000  355.000000  355.000000  355.000000  355.000000   \nmean   114.591549   51.791549   18.712676    0.163380    0.409858    1.828169   \nstd     71.690952   22.594471   16.535588    0.370234    0.358193    1.365969   \nmin     40.000000   10.000000    0.000000    0.000000    0.000000    0.000000   \n25%     60.000000   40.000000    4.000000    0.000000    0.075000    1.000000   \n50%    110.000000   50.000000   15.000000    0.000000    0.300000    2.000000   \n75%    135.000000   60.000000   30.000000    0.000000    0.700000    3.000000   \nmax    420.000000  180.000000   80.000000    1.000000    1.000000    6.000000   \n\n            month  \ncount  355.000000  \nmean     7.501408  \nstd      3.075670  \nmin      1.000000  \n25%      5.000000  \n50%      9.000000  \n75%     10.000000  \nmax     12.000000  "
          },
          "metadata": {}
        }
      ]
    },
    {
      "metadata": {},
      "cell_type": "markdown",
      "source": "## 增加變數"
    },
    {
      "metadata": {
        "ExecuteTime": {
          "start_time": "2018-10-25T04:34:43.194765Z",
          "end_time": "2018-10-25T04:34:43.480119Z"
        },
        "trusted": true
      },
      "cell_type": "code",
      "source": "library['dayofweek'] = library['開始時間'].dt.dayofweek\nlibrary['month'] = library['開始時間'].dt.month",
      "execution_count": 26,
      "outputs": []
    },
    {
      "metadata": {
        "ExecuteTime": {
          "start_time": "2018-10-25T05:51:43.958706Z",
          "end_time": "2018-10-25T05:51:44.14802Z"
        },
        "trusted": true
      },
      "cell_type": "code",
      "source": "library.describe()",
      "execution_count": 70,
      "outputs": [
        {
          "output_type": "execute_result",
          "execution_count": 70,
          "data": {
            "text/html": "<div>\n<style scoped>\n    .dataframe tbody tr th:only-of-type {\n        vertical-align: middle;\n    }\n\n    .dataframe tbody tr th {\n        vertical-align: top;\n    }\n\n    .dataframe thead th {\n        text-align: right;\n    }\n</style>\n<table border=\"1\" class=\"dataframe\">\n  <thead>\n    <tr style=\"text-align: right;\">\n      <th></th>\n      <th>總計分鐘數</th>\n      <th>限制人數</th>\n      <th>已報名人數</th>\n      <th>已爆滿</th>\n      <th>報名比率</th>\n      <th>dayofweek</th>\n      <th>month</th>\n    </tr>\n  </thead>\n  <tbody>\n    <tr>\n      <th>count</th>\n      <td>355.000000</td>\n      <td>355.000000</td>\n      <td>355.000000</td>\n      <td>355.000000</td>\n      <td>355.000000</td>\n      <td>355.000000</td>\n      <td>355.000000</td>\n    </tr>\n    <tr>\n      <th>mean</th>\n      <td>114.591549</td>\n      <td>51.791549</td>\n      <td>18.712676</td>\n      <td>0.163380</td>\n      <td>0.409858</td>\n      <td>1.828169</td>\n      <td>7.501408</td>\n    </tr>\n    <tr>\n      <th>std</th>\n      <td>71.690952</td>\n      <td>22.594471</td>\n      <td>16.535588</td>\n      <td>0.370234</td>\n      <td>0.358193</td>\n      <td>1.365969</td>\n      <td>3.075670</td>\n    </tr>\n    <tr>\n      <th>min</th>\n      <td>40.000000</td>\n      <td>10.000000</td>\n      <td>0.000000</td>\n      <td>0.000000</td>\n      <td>0.000000</td>\n      <td>0.000000</td>\n      <td>1.000000</td>\n    </tr>\n    <tr>\n      <th>25%</th>\n      <td>60.000000</td>\n      <td>40.000000</td>\n      <td>4.000000</td>\n      <td>0.000000</td>\n      <td>0.075000</td>\n      <td>1.000000</td>\n      <td>5.000000</td>\n    </tr>\n    <tr>\n      <th>50%</th>\n      <td>110.000000</td>\n      <td>50.000000</td>\n      <td>15.000000</td>\n      <td>0.000000</td>\n      <td>0.300000</td>\n      <td>2.000000</td>\n      <td>9.000000</td>\n    </tr>\n    <tr>\n      <th>75%</th>\n      <td>135.000000</td>\n      <td>60.000000</td>\n      <td>30.000000</td>\n      <td>0.000000</td>\n      <td>0.700000</td>\n      <td>3.000000</td>\n      <td>10.000000</td>\n    </tr>\n    <tr>\n      <th>max</th>\n      <td>420.000000</td>\n      <td>180.000000</td>\n      <td>80.000000</td>\n      <td>1.000000</td>\n      <td>1.000000</td>\n      <td>6.000000</td>\n      <td>12.000000</td>\n    </tr>\n  </tbody>\n</table>\n</div>",
            "text/plain": "            總計分鐘數        限制人數       已報名人數         已爆滿        報名比率   dayofweek  \\\ncount  355.000000  355.000000  355.000000  355.000000  355.000000  355.000000   \nmean   114.591549   51.791549   18.712676    0.163380    0.409858    1.828169   \nstd     71.690952   22.594471   16.535588    0.370234    0.358193    1.365969   \nmin     40.000000   10.000000    0.000000    0.000000    0.000000    0.000000   \n25%     60.000000   40.000000    4.000000    0.000000    0.075000    1.000000   \n50%    110.000000   50.000000   15.000000    0.000000    0.300000    2.000000   \n75%    135.000000   60.000000   30.000000    0.000000    0.700000    3.000000   \nmax    420.000000  180.000000   80.000000    1.000000    1.000000    6.000000   \n\n            month  \ncount  355.000000  \nmean     7.501408  \nstd      3.075670  \nmin      1.000000  \n25%      5.000000  \n50%      9.000000  \n75%     10.000000  \nmax     12.000000  "
          },
          "metadata": {}
        }
      ]
    },
    {
      "metadata": {},
      "cell_type": "markdown",
      "source": "## 訓練集與測試集"
    },
    {
      "metadata": {
        "ExecuteTime": {
          "start_time": "2018-10-25T04:48:10.775692Z",
          "end_time": "2018-10-25T04:48:10.874095Z"
        },
        "trusted": true
      },
      "cell_type": "code",
      "source": "today = datetime.today()\nprevious = library[library['開始時間']<today]\nfuture = library[library['開始時間']>=today]\n\ntrain_features = previous[['總計分鐘數','限制人數','dayofweek','month']]\ntrain_label = previous['已爆滿']\n\n\ntest_features = future[['總計分鐘數','限制人數','dayofweek','month']]\ntest_label = future['已爆滿']",
      "execution_count": 39,
      "outputs": []
    },
    {
      "metadata": {
        "ExecuteTime": {
          "start_time": "2018-10-25T05:55:03.51936Z",
          "end_time": "2018-10-25T05:55:03.546426Z"
        },
        "trusted": true
      },
      "cell_type": "code",
      "source": "print(train_features.head(2))\nprint(train_label.head(2))",
      "execution_count": 73,
      "outputs": [
        {
          "output_type": "stream",
          "text": "     總計分鐘數  限制人數  dayofweek  month\n23     110    60          2      9\n400    120    24          1      9\n23     0\n400    0\nName: 已爆滿, dtype: int64\n",
          "name": "stdout"
        }
      ]
    },
    {
      "metadata": {},
      "cell_type": "markdown",
      "source": "## GaussianNB預測"
    },
    {
      "metadata": {
        "ExecuteTime": {
          "start_time": "2018-10-25T04:52:22.558652Z",
          "end_time": "2018-10-25T04:52:22.617023Z"
        },
        "trusted": true
      },
      "cell_type": "code",
      "source": "from sklearn.naive_bayes import GaussianNB\nmodel = GaussianNB()\nmodel.fit(train_features,train_label)",
      "execution_count": 47,
      "outputs": [
        {
          "output_type": "execute_result",
          "execution_count": 47,
          "data": {
            "text/plain": "GaussianNB(priors=None)"
          },
          "metadata": {}
        }
      ]
    },
    {
      "metadata": {},
      "cell_type": "markdown",
      "source": "## 訓練集正確性"
    },
    {
      "metadata": {
        "ExecuteTime": {
          "start_time": "2018-10-25T05:56:26.894997Z",
          "end_time": "2018-10-25T05:56:26.91266Z"
        },
        "trusted": true
      },
      "cell_type": "code",
      "source": "from sklearn import metrics\npredicted_labels = model.predict(train_features)\nmetrics.accuracy_score(train_label, predicted_labels)",
      "execution_count": 74,
      "outputs": [
        {
          "output_type": "execute_result",
          "execution_count": 74,
          "data": {
            "text/plain": "0.8367952522255193"
          },
          "metadata": {}
        }
      ]
    },
    {
      "metadata": {
        "ExecuteTime": {
          "start_time": "2018-10-25T05:56:37.885671Z",
          "end_time": "2018-10-25T05:56:37.911644Z"
        },
        "trusted": true
      },
      "cell_type": "code",
      "source": "metrics.confusion_matrix(train_label, predicted_labels)",
      "execution_count": 75,
      "outputs": [
        {
          "output_type": "execute_result",
          "execution_count": 75,
          "data": {
            "text/plain": "array([[275,   8],\n       [ 47,   7]])"
          },
          "metadata": {}
        }
      ]
    },
    {
      "metadata": {
        "ExecuteTime": {
          "start_time": "2018-10-25T05:02:37.763926Z",
          "end_time": "2018-10-25T05:02:41.663051Z"
        },
        "trusted": true
      },
      "cell_type": "code",
      "source": "import matplotlib.pyplot as plt\nimport seaborn as sn\ncm = metrics.confusion_matrix(train_label, predicted_labels)\nfig = plt.figure(figsize = (10,7))\nsn.heatmap(cm, annot=True)\nplt.show()",
      "execution_count": 65,
      "outputs": [
        {
          "output_type": "stream",
          "text": "/home/nbuser/anaconda3_501/lib/python3.6/site-packages/matplotlib/font_manager.py:1320: UserWarning: findfont: Font family ['sans-serif'] not found. Falling back to DejaVu Sans\n  (prop.get_family(), self.defaultFamily[fontext]))\n",
          "name": "stderr"
        },
        {
          "output_type": "display_data",
          "data": {
            "image/png": "[encoded data removed]",
            "text/plain": "<matplotlib.figure.Figure at 0x7f3a88b41748>"
          },
          "metadata": {}
        }
      ]
    },
    {
      "metadata": {},
      "cell_type": "markdown",
      "source": "## 測試集正確性"
    },
    {
      "metadata": {
        "ExecuteTime": {
          "start_time": "2018-10-25T05:59:19.807008Z",
          "end_time": "2018-10-25T05:59:19.829395Z"
        },
        "trusted": true
      },
      "cell_type": "code",
      "source": "# predict test feature\npredicted_labels = model.predict(test_features)\nmetrics.accuracy_score(test_label, predicted_labels)",
      "execution_count": 76,
      "outputs": [
        {
          "output_type": "execute_result",
          "execution_count": 76,
          "data": {
            "text/plain": "0.7777777777777778"
          },
          "metadata": {}
        }
      ]
    },
    {
      "metadata": {
        "ExecuteTime": {
          "start_time": "2018-10-25T05:59:38.776288Z",
          "end_time": "2018-10-25T05:59:38.812889Z"
        },
        "trusted": true
      },
      "cell_type": "code",
      "source": "# confusion_matrix\nmetrics.confusion_matrix(test_label, predicted_labels)",
      "execution_count": 77,
      "outputs": [
        {
          "output_type": "execute_result",
          "execution_count": 77,
          "data": {
            "text/plain": "array([[14,  0],\n       [ 4,  0]])"
          },
          "metadata": {}
        }
      ]
    },
    {
      "metadata": {
        "ExecuteTime": {
          "start_time": "2018-10-25T06:01:22.714377Z",
          "end_time": "2018-10-25T06:01:22.77489Z"
        },
        "trusted": true
      },
      "cell_type": "code",
      "source": "test = test_features.iloc[0:2,:]\nprint(test)\nmodel.predict(test)\n",
      "execution_count": 82,
      "outputs": [
        {
          "output_type": "stream",
          "text": "    總計分鐘數  限制人數  dayofweek  month\n36    110    50          4     10\n35    170    50          4     10\n",
          "name": "stdout"
        },
        {
          "output_type": "execute_result",
          "execution_count": 82,
          "data": {
            "text/plain": "array([0, 0])"
          },
          "metadata": {}
        }
      ]
    }
  ],
  "metadata": {
    "kernelspec": {
      "name": "python36",
      "display_name": "Python 3.6",
      "language": "python"
    },
    "language_info": {
      "mimetype": "text/x-python",
      "nbconvert_exporter": "python",
      "name": "python",
      "pygments_lexer": "ipython3",
      "version": "3.6.6",
      "file_extension": ".py",
      "codemirror_mode": {
        "version": 3,
        "name": "ipython"
      }
    },
    "toc": {
      "nav_menu": {},
      "number_sections": true,
      "sideBar": true,
      "skip_h1_title": false,
      "base_numbering": 1,
      "title_cell": "Table of Contents",
      "title_sidebar": "Contents",
      "toc_cell": false,
      "toc_position": {
        "height": "calc(100% - 180px)",
        "width": "272px",
        "left": "10px",
        "top": "150px"
      },
      "toc_section_display": true,
      "toc_window_display": true
    },
    "varInspector": {
      "window_display": false,
      "cols": {
        "lenName": 16,
        "lenType": 16,
        "lenVar": 40
      },
      "kernels_config": {
        "python": {
          "library": "var_list.py",
          "delete_cmd_prefix": "del ",
          "delete_cmd_postfix": "",
          "varRefreshCmd": "print(var_dic_list())"
        },
        "r": {
          "library": "var_list.r",
          "delete_cmd_prefix": "rm(",
          "delete_cmd_postfix": ") ",
          "varRefreshCmd": "cat(var_dic_list()) "
        }
      },
      "types_to_exclude": [
        "module",
        "function",
        "builtin_function_or_method",
        "instance",
        "_Feature"
      ]
    }
  },
  "nbformat": 4,
  "nbformat_minor": 2
}