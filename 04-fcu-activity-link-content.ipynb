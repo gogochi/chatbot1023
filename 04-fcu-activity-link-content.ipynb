{
  "cells": [
    {
      "metadata": {},
      "cell_type": "markdown",
      "source": "# 爬取活動內容"
    },
    {
      "metadata": {
        "ExecuteTime": {
          "start_time": "2019-10-22T17:21:55.501187Z",
          "end_time": "2019-10-22T17:22:33.864032Z"
        },
        "trusted": true,
        "scrolled": true
      },
      "cell_type": "code",
      "source": "# 將資料儲存成 list\nimport requests\nfrom bs4 import BeautifulSoup as bs\nimport pandas as pd\n\nrow_title = [] #欄位標題\n\npost_date_f = [] #\ntitle_f = []\nlink_f = []\nstart_date_f = []\nend_date_f = []\ncontent = []\n\nr = requests.get(\"http://news.fcu.edu.tw/wSite/lp?ctNode=15361&mp=9000&pagesize=50\")\nsoup = bs(r.text,\"html.parser\")\ntable = soup.find('table',{'class':'tb'})\n\n# 欄位標題\nfor title in table.find('tr').find_all('th'):\n    row_title.append(title.text.strip())\nrow_title.append('連結')\nprint(row_title)\n# 讀取欄位值\nfor row in table.find_all('tr')[1:]:\n    fields = row.find_all('td')\n    \n    post_date = fields[0].text.strip()\n    title = fields[1].text.strip()\n    link = 'http://news.fcu.edu.tw/wSite/'+fields[1].find('a', href=True).get('href')\n    start_date = fields[2].text.strip()\n    end_date = fields[3].text.strip()\n    \n    r_link = requests.get(link)\n    s = bs(r_link.text,\"html.parser\")\n    c = s.find('td', {'class':'leftblock'}).text.strip()\n    content.append(c)\n    \n    post_date_f.append(post_date)\n    title_f.append(title)\n    link_f.append(link)\n    start_date_f.append(start_date)\n    end_date_f.append(end_date)\nprint(title_f)",
      "execution_count": 2,
      "outputs": [
        {
          "output_type": "stream",
          "text": "['張貼日', '標題', '開始時間', '截止時間', '連結']\n['【通識沙龍】108.11.19 – 108.11.29 節目單 (地點：人言大樓十樓)', '108學年度第一學期光電科學與工程學系業師授課(11/13)', '11月21日(四)「MATLAB用於機器人與自主系統演算法的開發」訓練課程', '108學年度上學期專題製作課程「非洲的挑戰!農業」校外教學', '11月9日「Python 運算思維增能－APCS介紹與試題實作教師研習」活動通知', '11月22日(五)「Fusion 360 Generative Design」課程報名通知', '108學年度上學期專題課程『築橋創新競賽』專題演講【桌遊競賽實務】', '通識選修「智慧綠台灣」專題演講', '108學年度上學期專題課程『基礎影音製作』專題演講【短片拍攝前置工作面面觀】', '108學年度上學期專題課程『歌舞劇實務』【舞台造型講解工作坊】', '108學年度上學期專題課程『觀光美儀與國際禮儀』專題演講【社會新鮮人職場彩妝】', '光電系108學年度上學期專題演講', '1081光電系第一次週會', '【通識沙龍】108.10.25-108.11.18 節目單 (地點：人言大樓十樓)', '108學年度第一學期光電科學與工程學系業師授課(10/23)', '逢甲大學 第二屆「各言爾志」新生盃 辯論賽', '外文系專題演講:變臉', '108學年度第一學期光電科學與工程學系師生校外參訪活動(10/18)', '108-1 大學國文專題演講（二）', '企業管理學系_統計分析方法專題演講', '108學年度第一學期光電科學與工程學系校外參訪活動(10/18)', '108學年度上學期【逢甲夜市雙語導覽專題設計工作坊】', '[衣藝美學與科技時尚]及[衣藝美學與創新時尚]校外教學', '108學年度第一學期國際經營與貿易學系海外交流研討會(11/5)', '10月31日(四)「用MATLAB於GPU 進行影像處理/電腦視覺之深度學習應用」訓練課程', '環科系108/10/07演講~The prospect and development of incinerators for municipal solid waste treatment', '108學年度上學期微學分網紅經濟系列課程【如何成為百萬youtuber？】專題演講', '108學年度上學期專題製作課程「性別與新飲食文化探索」校外教學『食物生產與性別:田野考察工作坊』', '商學院統計學(一)補救教學', '108學年度上學期專題演講【手、心溫度 - 自己與自己的對話】', '「與時間拔河──2019第三屆逢甲人物故事徵文比賽」影像拍攝研習工作坊', '「Python 程式語言實作系列研習課程」報名通知', '華語教師學分學程專題演講—教學成功之路─談創意華語教學法', '華語教師學分學程專題演講—我的第一個印尼班~與一個慢活民族的優雅相會', '「資訊安全程式設計實作系列課程」報名通知', '華語教師學分學程專題演講—華語教學甘苦談', '「與時間拔河──2019第三屆逢甲人物故事徵文比賽」說明會', '逢甲大學水利工程與資源保育學系學術演講-逕流分擔與出流管制概念、技術與法規(108/10/08)', '環科系108/09/30演講~魚類動物地理區系與遺傳保育研究，從學界到業界的角色轉換與衝突', '歷文所專題演講：臺灣早期傳統服飾刺繡探討', '華語教師學分學程專題演講—華語課堂多媒體實作', '歷文所專題演講：文物藝術品市場與贗品文化', '【通識沙龍】108.09.26-108.10.07 節目單 (地點：人言大樓十樓)', '外文系專題演講:Openbook的表演--讀劇的奧妙', '逢甲大學光電科學與工程學系與宇都宮大學光學研究中心暨教育中心學術討論會', '資訊系演講-淺談共識演算法 (Introduction to Consensus Algorithms)', '「與時間拔河──2019第三屆逢甲⼈物故事徵文比賽」開始報名通知', '逢甲大學水利工程與資源保育學系學術演講-從「海綿校園」到「海綿城市」的建置技術」(108/10/01)', '108學年度第一學期會計系（會計學）夜間課業輔導班開課資訊', '第二屆「各言爾志」新生盃辯論\\u3000示範賽']\n",
          "name": "stdout"
        }
      ]
    },
    {
      "metadata": {
        "ExecuteTime": {
          "start_time": "2019-10-22T17:22:34.44539Z",
          "end_time": "2019-10-22T17:22:34.552633Z"
        },
        "trusted": true
      },
      "cell_type": "code",
      "source": "# 資料儲存成 dataframe\nprint(row_title)\nactivity_df = pd.DataFrame({row_title[0]:post_date_f,row_title[1]:title_f,row_title[2]:start_date_f,row_title[3]:end_date_f,row_title[4]:link_f})\nactivity_df.head()",
      "execution_count": 3,
      "outputs": [
        {
          "output_type": "stream",
          "text": "['張貼日', '標題', '開始時間', '截止時間', '連結']\n",
          "name": "stdout"
        },
        {
          "output_type": "execute_result",
          "execution_count": 3,
          "data": {
            "text/html": "<div>\n<style scoped>\n    .dataframe tbody tr th:only-of-type {\n        vertical-align: middle;\n    }\n\n    .dataframe tbody tr th {\n        vertical-align: top;\n    }\n\n    .dataframe thead th {\n        text-align: right;\n    }\n</style>\n<table border=\"1\" class=\"dataframe\">\n  <thead>\n    <tr style=\"text-align: right;\">\n      <th></th>\n      <th>張貼日</th>\n      <th>標題</th>\n      <th>開始時間</th>\n      <th>截止時間</th>\n      <th>連結</th>\n    </tr>\n  </thead>\n  <tbody>\n    <tr>\n      <th>0</th>\n      <td>2019-10-22</td>\n      <td>【通識沙龍】108.11.19 – 108.11.29 節目單 (地點：人言大樓十樓)</td>\n      <td>2019-11-19</td>\n      <td>2019-11-29</td>\n      <td>http://news.fcu.edu.tw/wSite/ct?xItem=221360BC...</td>\n    </tr>\n    <tr>\n      <th>1</th>\n      <td>2019-10-21</td>\n      <td>108學年度第一學期光電科學與工程學系業師授課(11/13)</td>\n      <td>2019-11-13</td>\n      <td>2019-11-13</td>\n      <td>http://news.fcu.edu.tw/wSite/ct?xItem=40FD310D...</td>\n    </tr>\n    <tr>\n      <th>2</th>\n      <td>2019-10-17</td>\n      <td>11月21日(四)「MATLAB用於機器人與自主系統演算法的開發」訓練課程</td>\n      <td>2019-11-21</td>\n      <td>2019-11-21</td>\n      <td>http://news.fcu.edu.tw/wSite/ct?xItem=45D4CC64...</td>\n    </tr>\n    <tr>\n      <th>3</th>\n      <td>2019-10-17</td>\n      <td>108學年度上學期專題製作課程「非洲的挑戰!農業」校外教學</td>\n      <td>2019-10-26</td>\n      <td>2019-10-26</td>\n      <td>http://news.fcu.edu.tw/wSite/ct?xItem=5D3E65D4...</td>\n    </tr>\n    <tr>\n      <th>4</th>\n      <td>2019-10-17</td>\n      <td>11月9日「Python 運算思維增能－APCS介紹與試題實作教師研習」活動通知</td>\n      <td>2019-11-09</td>\n      <td>2019-11-09</td>\n      <td>http://news.fcu.edu.tw/wSite/ct?xItem=753424BE...</td>\n    </tr>\n  </tbody>\n</table>\n</div>",
            "text/plain": "          張貼日                                           標題        開始時間  \\\n0  2019-10-22  【通識沙龍】108.11.19 – 108.11.29 節目單 (地點：人言大樓十樓)  2019-11-19   \n1  2019-10-21               108學年度第一學期光電科學與工程學系業師授課(11/13)  2019-11-13   \n2  2019-10-17        11月21日(四)「MATLAB用於機器人與自主系統演算法的開發」訓練課程  2019-11-21   \n3  2019-10-17                108學年度上學期專題製作課程「非洲的挑戰!農業」校外教學  2019-10-26   \n4  2019-10-17     11月9日「Python 運算思維增能－APCS介紹與試題實作教師研習」活動通知  2019-11-09   \n\n         截止時間                                                 連結  \n0  2019-11-29  http://news.fcu.edu.tw/wSite/ct?xItem=221360BC...  \n1  2019-11-13  http://news.fcu.edu.tw/wSite/ct?xItem=40FD310D...  \n2  2019-11-21  http://news.fcu.edu.tw/wSite/ct?xItem=45D4CC64...  \n3  2019-10-26  http://news.fcu.edu.tw/wSite/ct?xItem=5D3E65D4...  \n4  2019-11-09  http://news.fcu.edu.tw/wSite/ct?xItem=753424BE...  "
          },
          "metadata": {}
        }
      ]
    },
    {
      "metadata": {
        "trusted": true,
        "ExecuteTime": {
          "start_time": "2019-10-22T17:22:39.196075Z",
          "end_time": "2019-10-22T17:22:39.935939Z"
        }
      },
      "cell_type": "code",
      "source": "r_link = requests.get(\"http://news.fcu.edu.tw/wSite/ct?xItem=B49BB248A7A2B464482583210014EFEE&ctNode=15360&mp=9000\")\ns = bs(r_link.text,\"html.parser\")\nc = s.find('td', {'class':'leftblock'})\nprint(c.text)",
      "execution_count": 4,
      "outputs": [
        {
          "output_type": "stream",
          "text": "\n資料來源：\r\n\t\t\t\t\t\t秘書處\r\n\t\t\t\t\t\t(2018-10-09)\r\n\t\t\t\t\t\n相關網址：\r\n\t\t\t\t\t\t\thttp://web.pr.fcu.edu.tw/~pr/fest/2018/20181009/201801009_0.html\n\n\n\n",
          "name": "stdout"
        }
      ]
    }
  ],
  "metadata": {
    "kernelspec": {
      "name": "python36",
      "display_name": "Python 3.6",
      "language": "python"
    },
    "language_info": {
      "mimetype": "text/x-python",
      "nbconvert_exporter": "python",
      "name": "python",
      "pygments_lexer": "ipython3",
      "version": "3.6.6",
      "file_extension": ".py",
      "codemirror_mode": {
        "version": 3,
        "name": "ipython"
      }
    },
    "toc": {
      "nav_menu": {},
      "number_sections": true,
      "sideBar": true,
      "skip_h1_title": false,
      "base_numbering": 1,
      "title_cell": "Table of Contents",
      "title_sidebar": "Contents",
      "toc_cell": false,
      "toc_position": {},
      "toc_section_display": true,
      "toc_window_display": false
    },
    "varInspector": {
      "window_display": false,
      "cols": {
        "lenName": 16,
        "lenType": 16,
        "lenVar": 40
      },
      "kernels_config": {
        "python": {
          "library": "var_list.py",
          "delete_cmd_prefix": "del ",
          "delete_cmd_postfix": "",
          "varRefreshCmd": "print(var_dic_list())"
        },
        "r": {
          "library": "var_list.r",
          "delete_cmd_prefix": "rm(",
          "delete_cmd_postfix": ") ",
          "varRefreshCmd": "cat(var_dic_list()) "
        }
      },
      "types_to_exclude": [
        "module",
        "function",
        "builtin_function_or_method",
        "instance",
        "_Feature"
      ]
    }
  },
  "nbformat": 4,
  "nbformat_minor": 2
}