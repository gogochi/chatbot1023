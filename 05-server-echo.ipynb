{
  "cells": [
    {
      "metadata": {
        "ExecuteTime": {
          "start_time": "2019-10-22T17:22:48.541Z"
        },
        "trusted": true
      },
      "cell_type": "code",
      "source": "import json\n\nfrom flask import Flask, request, make_response, jsonify\n\napp = Flask(__name__)\nlog = app.logger\n\n@app.route(\"/\")\ndef verify():\n    return \"hello, world\", 200\n\n@app.route('/', methods=['POST'])\ndef webhook():\n    req = request.get_json(silent=True, force=True)\n    print(req)\n    try:\n        text = req.get('queryResult').get('queryText')\n    except AttributeError:\n        return 'json error'\n    res = {'fulfillmentText':text}\n    print('queryText: ' + text)\n\n    return make_response(jsonify(res))\n\nif __name__ == '__main__':\n    app.run(port=5000)",
      "execution_count": null,
      "outputs": [
        {
          "output_type": "stream",
          "text": " * Serving Flask app \"__main__\" (lazy loading)\n * Environment: production\n   WARNING: Do not use the development server in a production environment.\n   Use a production WSGI server instead.\n * Debug mode: off\n",
          "name": "stdout"
        },
        {
          "output_type": "stream",
          "text": " * Running on http://127.0.0.1:5000/ (Press CTRL+C to quit)\n",
          "name": "stderr"
        }
      ]
    }
  ],
  "metadata": {
    "kernelspec": {
      "name": "python36",
      "display_name": "Python 3.6",
      "language": "python"
    },
    "language_info": {
      "mimetype": "text/x-python",
      "nbconvert_exporter": "python",
      "name": "python",
      "pygments_lexer": "ipython3",
      "version": "3.6.6",
      "file_extension": ".py",
      "codemirror_mode": {
        "version": 3,
        "name": "ipython"
      }
    },
    "toc": {
      "nav_menu": {},
      "number_sections": true,
      "sideBar": true,
      "skip_h1_title": false,
      "base_numbering": 1,
      "title_cell": "Table of Contents",
      "title_sidebar": "Contents",
      "toc_cell": false,
      "toc_position": {},
      "toc_section_display": true,
      "toc_window_display": false
    },
    "varInspector": {
      "window_display": false,
      "cols": {
        "lenName": 16,
        "lenType": 16,
        "lenVar": 40
      },
      "kernels_config": {
        "python": {
          "library": "var_list.py",
          "delete_cmd_prefix": "del ",
          "delete_cmd_postfix": "",
          "varRefreshCmd": "print(var_dic_list())"
        },
        "r": {
          "library": "var_list.r",
          "delete_cmd_prefix": "rm(",
          "delete_cmd_postfix": ") ",
          "varRefreshCmd": "cat(var_dic_list()) "
        }
      },
      "types_to_exclude": [
        "module",
        "function",
        "builtin_function_or_method",
        "instance",
        "_Feature"
      ]
    }
  },
  "nbformat": 4,
  "nbformat_minor": 2
}