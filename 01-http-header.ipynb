{
  "cells": [
    {
      "metadata": {},
      "cell_type": "markdown",
      "source": "# http header 資料搜尋\n\n"
    },
    {
      "metadata": {},
      "cell_type": "markdown",
      "source": "google http header 解釋欄位意義  \nhttps://developer.mozilla.org/zh-TW/docs/Web/HTTP/Headers  \nhttps://en.wikipedia.org/wiki/List_of_HTTP_header_fields  \nhttps://www.w3.org/Protocols/rfc2616/rfc2616-sec14.html  \nhttps://developers.google.com/web/tools/chrome-devtools/network-performance/reference  "
    },
    {
      "metadata": {},
      "cell_type": "markdown",
      "source": "Request URL: http://news.fcu.edu.tw/wSite/lp?ctNode=15361&mp=9000&idPath=\nRequest Method: GET\nStatus Code: 200 OK\nRemote Address: 140.134.4.212:80\nReferrer Policy: no-referrer-when-downgrade\n\nCache-Control: private\nContent-Encoding: gzip\nContent-Type: text/html;charset=utf-8\nDate: Tue, 09 Oct 2018 04:59:13 GMT\nServer: Apache-Coyote/1.1\nTransfer-Encoding: chunked\n\nAccept: text/html,application/xhtml+xml,application/xml;q=0.9,image/webp,image/apng,*/*;q=0.8\nAccept-Encoding: gzip, deflate\nAccept-Language: zh-TW,zh;q=0.9,en-US;q=0.8,en;q=0.7,ja;q=0.6,fr-FR;q=0.5,fr;q=0.4\nCache-Control: max-age=0\nConnection: keep-alive\nCookie: _ga=GA1.3.1461375429.1503384164; __dtsu=D9E9B66B982D95597A654E7502F98567; __utmz=74190349.1530063580.14.7.utmcsr=facebook.com|utmccn=(referral)|utmcmd=referral|utmcct=/; __utma=74190349.1461375429.1503384164.1530063580.1533010317.15; _gid=GA1.3.58588627.1538976926; JSESSIONID=37612AF9E2DC8DEC31CC7D613028503C; FCU_WAF=MOV4c4MpxsKboK03z60x8X36KS00002\nHost: news.fcu.edu.tw\nReferer: http://news.fcu.edu.tw/wSite/np?ctNode=14979&mp=9000\nUpgrade-Insecure-Requests: 1\nUser-Agent: Mozilla/5.0 (Windows NT 10.0; Win64; x64) AppleWebKit/537.36 (KHTML, like Gecko) Chrome/69.0.3497.100 Safari/537.36\n\nctNode: 15361\nmp: 9000\nidPath: "
    }
  ],
  "metadata": {
    "kernelspec": {
      "name": "python36",
      "display_name": "Python 3.6",
      "language": "python"
    },
    "language_info": {
      "mimetype": "text/x-python",
      "nbconvert_exporter": "python",
      "name": "python",
      "pygments_lexer": "ipython3",
      "version": "3.6.6",
      "file_extension": ".py",
      "codemirror_mode": {
        "version": 3,
        "name": "ipython"
      }
    },
    "toc": {
      "nav_menu": {},
      "number_sections": true,
      "sideBar": true,
      "skip_h1_title": false,
      "base_numbering": 1,
      "title_cell": "Table of Contents",
      "title_sidebar": "Contents",
      "toc_cell": false,
      "toc_position": {},
      "toc_section_display": true,
      "toc_window_display": false
    },
    "varInspector": {
      "window_display": false,
      "cols": {
        "lenName": 16,
        "lenType": 16,
        "lenVar": 40
      },
      "kernels_config": {
        "python": {
          "library": "var_list.py",
          "delete_cmd_prefix": "del ",
          "delete_cmd_postfix": "",
          "varRefreshCmd": "print(var_dic_list())"
        },
        "r": {
          "library": "var_list.r",
          "delete_cmd_prefix": "rm(",
          "delete_cmd_postfix": ") ",
          "varRefreshCmd": "cat(var_dic_list()) "
        }
      },
      "types_to_exclude": [
        "module",
        "function",
        "builtin_function_or_method",
        "instance",
        "_Feature"
      ]
    }
  },
  "nbformat": 4,
  "nbformat_minor": 2
}