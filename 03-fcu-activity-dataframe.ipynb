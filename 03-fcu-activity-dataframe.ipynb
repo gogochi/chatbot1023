{
  "cells": [
    {
      "metadata": {
        "collapsed": true
      },
      "cell_type": "markdown",
      "source": "# DataFrame 爬蟲資料操作"
    },
    {
      "metadata": {
        "ExecuteTime": {
          "start_time": "2019-10-22T17:20:45.923405Z",
          "end_time": "2019-10-22T17:20:52.593298Z"
        },
        "trusted": true
      },
      "cell_type": "code",
      "source": "# 將資料儲存成 list\nimport requests\nfrom bs4 import BeautifulSoup as bs\nimport pandas as pd\n\nrow_title = [] #欄位標題\n\npost_date_f = [] #\ntitle_f = []\nlink_f = []\nstart_date_f = []\nend_date_f = []\n\nr = requests.get(\"http://news.fcu.edu.tw/wSite/lp?ctNode=15361&mp=9000&pagesize=50\")\nsoup = bs(r.text,\"lxml\")\ntable = soup.find('table',{'class':'tb'})\n\n# 欄位標題\nfor title in table.find('tr').find_all('th'):\n    row_title.append(title.text.strip())\nrow_title.append('連結')\nprint(row_title)\n# 讀取欄位值\nfor row in table.find_all('tr')[1:]:\n    fields = row.find_all('td')\n    \n    post_date = fields[0].text.strip()\n    title = fields[1].text.strip()\n    link = 'http://news.fcu.edu.tw/wSite/'+fields[1].find('a', href=True).get('href')\n    start_date = fields[2].text.strip()\n    end_date = fields[3].text.strip()\n    \n    post_date_f.append(post_date)\n    title_f.append(title)\n    link_f.append(link)\n    start_date_f.append(start_date)\n    end_date_f.append(end_date)\nprint(title_f)",
      "execution_count": 1,
      "outputs": [
        {
          "output_type": "stream",
          "text": "['張貼日', '標題', '開始時間', '截止時間', '連結']\n['【通識沙龍】108.11.19 – 108.11.29 節目單 (地點：人言大樓十樓)', '108學年度第一學期光電科學與工程學系業師授課(11/13)', '11月21日(四)「MATLAB用於機器人與自主系統演算法的開發」訓練課程', '108學年度上學期專題製作課程「非洲的挑戰!農業」校外教學', '11月9日「Python 運算思維增能－APCS介紹與試題實作教師研習」活動通知', '11月22日(五)「Fusion 360 Generative Design」課程報名通知', '108學年度上學期專題課程『築橋創新競賽』專題演講【桌遊競賽實務】', '通識選修「智慧綠台灣」專題演講', '108學年度上學期專題課程『基礎影音製作』專題演講【短片拍攝前置工作面面觀】', '108學年度上學期專題課程『歌舞劇實務』【舞台造型講解工作坊】', '108學年度上學期專題課程『觀光美儀與國際禮儀』專題演講【社會新鮮人職場彩妝】', '光電系108學年度上學期專題演講', '1081光電系第一次週會', '【通識沙龍】108.10.25-108.11.18 節目單 (地點：人言大樓十樓)', '108學年度第一學期光電科學與工程學系業師授課(10/23)', '逢甲大學 第二屆「各言爾志」新生盃 辯論賽', '外文系專題演講:變臉', '108學年度第一學期光電科學與工程學系師生校外參訪活動(10/18)', '108-1 大學國文專題演講（二）', '企業管理學系_統計分析方法專題演講', '108學年度第一學期光電科學與工程學系校外參訪活動(10/18)', '108學年度上學期【逢甲夜市雙語導覽專題設計工作坊】', '[衣藝美學與科技時尚]及[衣藝美學與創新時尚]校外教學', '108學年度第一學期國際經營與貿易學系海外交流研討會(11/5)', '10月31日(四)「用MATLAB於GPU 進行影像處理/電腦視覺之深度學習應用」訓練課程', '環科系108/10/07演講~The prospect and development of incinerators for municipal solid waste treatment', '108學年度上學期微學分網紅經濟系列課程【如何成為百萬youtuber？】專題演講', '108學年度上學期專題製作課程「性別與新飲食文化探索」校外教學『食物生產與性別:田野考察工作坊』', '商學院統計學(一)補救教學', '108學年度上學期專題演講【手、心溫度 - 自己與自己的對話】', '「與時間拔河──2019第三屆逢甲人物故事徵文比賽」影像拍攝研習工作坊', '「Python 程式語言實作系列研習課程」報名通知', '華語教師學分學程專題演講—教學成功之路─談創意華語教學法', '華語教師學分學程專題演講—我的第一個印尼班~與一個慢活民族的優雅相會', '「資訊安全程式設計實作系列課程」報名通知', '華語教師學分學程專題演講—華語教學甘苦談', '「與時間拔河──2019第三屆逢甲人物故事徵文比賽」說明會', '逢甲大學水利工程與資源保育學系學術演講-逕流分擔與出流管制概念、技術與法規(108/10/08)', '環科系108/09/30演講~魚類動物地理區系與遺傳保育研究，從學界到業界的角色轉換與衝突', '歷文所專題演講：臺灣早期傳統服飾刺繡探討', '華語教師學分學程專題演講—華語課堂多媒體實作', '歷文所專題演講：文物藝術品市場與贗品文化', '【通識沙龍】108.09.26-108.10.07 節目單 (地點：人言大樓十樓)', '外文系專題演講:Openbook的表演--讀劇的奧妙', '逢甲大學光電科學與工程學系與宇都宮大學光學研究中心暨教育中心學術討論會', '資訊系演講-淺談共識演算法 (Introduction to Consensus Algorithms)', '「與時間拔河──2019第三屆逢甲⼈物故事徵文比賽」開始報名通知', '逢甲大學水利工程與資源保育學系學術演講-從「海綿校園」到「海綿城市」的建置技術」(108/10/01)', '108學年度第一學期會計系（會計學）夜間課業輔導班開課資訊', '第二屆「各言爾志」新生盃辯論\\u3000示範賽']\n",
          "name": "stdout"
        }
      ]
    },
    {
      "metadata": {
        "ExecuteTime": {
          "start_time": "2019-10-22T17:20:57.125571Z",
          "end_time": "2019-10-22T17:20:57.336962Z"
        },
        "trusted": true
      },
      "cell_type": "code",
      "source": "# 資料儲存成 dataframe\nprint(row_title)\nactivity_df = pd.DataFrame({row_title[0]:post_date_f,row_title[1]:title_f,row_title[2]:start_date_f,row_title[3]:end_date_f,row_title[4]:link_f})\nactivity_df.head()",
      "execution_count": 2,
      "outputs": [
        {
          "output_type": "stream",
          "text": "['張貼日', '標題', '開始時間', '截止時間', '連結']\n",
          "name": "stdout"
        },
        {
          "output_type": "execute_result",
          "execution_count": 2,
          "data": {
            "text/html": "<div>\n<style scoped>\n    .dataframe tbody tr th:only-of-type {\n        vertical-align: middle;\n    }\n\n    .dataframe tbody tr th {\n        vertical-align: top;\n    }\n\n    .dataframe thead th {\n        text-align: right;\n    }\n</style>\n<table border=\"1\" class=\"dataframe\">\n  <thead>\n    <tr style=\"text-align: right;\">\n      <th></th>\n      <th>張貼日</th>\n      <th>標題</th>\n      <th>開始時間</th>\n      <th>截止時間</th>\n      <th>連結</th>\n    </tr>\n  </thead>\n  <tbody>\n    <tr>\n      <th>0</th>\n      <td>2019-10-22</td>\n      <td>【通識沙龍】108.11.19 – 108.11.29 節目單 (地點：人言大樓十樓)</td>\n      <td>2019-11-19</td>\n      <td>2019-11-29</td>\n      <td>http://news.fcu.edu.tw/wSite/ct?xItem=221360BC...</td>\n    </tr>\n    <tr>\n      <th>1</th>\n      <td>2019-10-21</td>\n      <td>108學年度第一學期光電科學與工程學系業師授課(11/13)</td>\n      <td>2019-11-13</td>\n      <td>2019-11-13</td>\n      <td>http://news.fcu.edu.tw/wSite/ct?xItem=40FD310D...</td>\n    </tr>\n    <tr>\n      <th>2</th>\n      <td>2019-10-17</td>\n      <td>11月21日(四)「MATLAB用於機器人與自主系統演算法的開發」訓練課程</td>\n      <td>2019-11-21</td>\n      <td>2019-11-21</td>\n      <td>http://news.fcu.edu.tw/wSite/ct?xItem=45D4CC64...</td>\n    </tr>\n    <tr>\n      <th>3</th>\n      <td>2019-10-17</td>\n      <td>108學年度上學期專題製作課程「非洲的挑戰!農業」校外教學</td>\n      <td>2019-10-26</td>\n      <td>2019-10-26</td>\n      <td>http://news.fcu.edu.tw/wSite/ct?xItem=5D3E65D4...</td>\n    </tr>\n    <tr>\n      <th>4</th>\n      <td>2019-10-17</td>\n      <td>11月9日「Python 運算思維增能－APCS介紹與試題實作教師研習」活動通知</td>\n      <td>2019-11-09</td>\n      <td>2019-11-09</td>\n      <td>http://news.fcu.edu.tw/wSite/ct?xItem=753424BE...</td>\n    </tr>\n  </tbody>\n</table>\n</div>",
            "text/plain": "          張貼日                                           標題        開始時間  \\\n0  2019-10-22  【通識沙龍】108.11.19 – 108.11.29 節目單 (地點：人言大樓十樓)  2019-11-19   \n1  2019-10-21               108學年度第一學期光電科學與工程學系業師授課(11/13)  2019-11-13   \n2  2019-10-17        11月21日(四)「MATLAB用於機器人與自主系統演算法的開發」訓練課程  2019-11-21   \n3  2019-10-17                108學年度上學期專題製作課程「非洲的挑戰!農業」校外教學  2019-10-26   \n4  2019-10-17     11月9日「Python 運算思維增能－APCS介紹與試題實作教師研習」活動通知  2019-11-09   \n\n         截止時間                                                 連結  \n0  2019-11-29  http://news.fcu.edu.tw/wSite/ct?xItem=221360BC...  \n1  2019-11-13  http://news.fcu.edu.tw/wSite/ct?xItem=40FD310D...  \n2  2019-11-21  http://news.fcu.edu.tw/wSite/ct?xItem=45D4CC64...  \n3  2019-10-26  http://news.fcu.edu.tw/wSite/ct?xItem=5D3E65D4...  \n4  2019-11-09  http://news.fcu.edu.tw/wSite/ct?xItem=753424BE...  "
          },
          "metadata": {}
        }
      ]
    },
    {
      "metadata": {
        "ExecuteTime": {
          "start_time": "2019-10-22T17:21:00.358133Z",
          "end_time": "2019-10-22T17:21:00.455166Z"
        },
        "trusted": true
      },
      "cell_type": "code",
      "source": "# 處理日期格式\nfrom datetime import datetime\nfrom dateutil import parser\n\nprint(activity_df['張貼日'].dtype)\n\nactivity_df['張貼日'] =  pd.to_datetime(activity_df['張貼日'], format='%Y-%m-%d')\nactivity_df['開始時間'] =  pd.to_datetime(activity_df['開始時間'], format='%Y-%m-%d')\nactivity_df['截止時間'] =  pd.to_datetime(activity_df['截止時間'], format='%Y-%m-%d')\n\nprint(activity_df['張貼日'].dtype)\n\n# 排序開始時間\nactivity_df = activity_df.sort_values(by='開始時間',ascending=False)\nactivity_df.head()",
      "execution_count": 3,
      "outputs": [
        {
          "output_type": "stream",
          "text": "object\ndatetime64[ns]\n",
          "name": "stdout"
        },
        {
          "output_type": "execute_result",
          "execution_count": 3,
          "data": {
            "text/html": "<div>\n<style scoped>\n    .dataframe tbody tr th:only-of-type {\n        vertical-align: middle;\n    }\n\n    .dataframe tbody tr th {\n        vertical-align: top;\n    }\n\n    .dataframe thead th {\n        text-align: right;\n    }\n</style>\n<table border=\"1\" class=\"dataframe\">\n  <thead>\n    <tr style=\"text-align: right;\">\n      <th></th>\n      <th>張貼日</th>\n      <th>標題</th>\n      <th>開始時間</th>\n      <th>截止時間</th>\n      <th>連結</th>\n    </tr>\n  </thead>\n  <tbody>\n    <tr>\n      <th>28</th>\n      <td>2019-09-27</td>\n      <td>商學院統計學(一)補救教學</td>\n      <td>2019-12-03</td>\n      <td>2019-12-26</td>\n      <td>http://news.fcu.edu.tw/wSite/ct?xItem=583F2F7F...</td>\n    </tr>\n    <tr>\n      <th>35</th>\n      <td>2019-09-24</td>\n      <td>華語教師學分學程專題演講—華語教學甘苦談</td>\n      <td>2019-11-26</td>\n      <td>2019-11-26</td>\n      <td>http://news.fcu.edu.tw/wSite/ct?xItem=10568CA5...</td>\n    </tr>\n    <tr>\n      <th>5</th>\n      <td>2019-10-17</td>\n      <td>11月22日(五)「Fusion 360 Generative Design」課程報名通知</td>\n      <td>2019-11-22</td>\n      <td>2019-11-22</td>\n      <td>http://news.fcu.edu.tw/wSite/ct?xItem=89459ABE...</td>\n    </tr>\n    <tr>\n      <th>2</th>\n      <td>2019-10-17</td>\n      <td>11月21日(四)「MATLAB用於機器人與自主系統演算法的開發」訓練課程</td>\n      <td>2019-11-21</td>\n      <td>2019-11-21</td>\n      <td>http://news.fcu.edu.tw/wSite/ct?xItem=45D4CC64...</td>\n    </tr>\n    <tr>\n      <th>39</th>\n      <td>2019-09-24</td>\n      <td>歷文所專題演講：臺灣早期傳統服飾刺繡探討</td>\n      <td>2019-11-21</td>\n      <td>2019-11-21</td>\n      <td>http://news.fcu.edu.tw/wSite/ct?xItem=74A685AE...</td>\n    </tr>\n  </tbody>\n</table>\n</div>",
            "text/plain": "          張貼日                                             標題       開始時間  \\\n28 2019-09-27                                  商學院統計學(一)補救教學 2019-12-03   \n35 2019-09-24                           華語教師學分學程專題演講—華語教學甘苦談 2019-11-26   \n5  2019-10-17  11月22日(五)「Fusion 360 Generative Design」課程報名通知 2019-11-22   \n2  2019-10-17          11月21日(四)「MATLAB用於機器人與自主系統演算法的開發」訓練課程 2019-11-21   \n39 2019-09-24                           歷文所專題演講：臺灣早期傳統服飾刺繡探討 2019-11-21   \n\n         截止時間                                                 連結  \n28 2019-12-26  http://news.fcu.edu.tw/wSite/ct?xItem=583F2F7F...  \n35 2019-11-26  http://news.fcu.edu.tw/wSite/ct?xItem=10568CA5...  \n5  2019-11-22  http://news.fcu.edu.tw/wSite/ct?xItem=89459ABE...  \n2  2019-11-21  http://news.fcu.edu.tw/wSite/ct?xItem=45D4CC64...  \n39 2019-11-21  http://news.fcu.edu.tw/wSite/ct?xItem=74A685AE...  "
          },
          "metadata": {}
        }
      ]
    },
    {
      "metadata": {
        "ExecuteTime": {
          "start_time": "2019-10-22T17:21:04.396315Z",
          "end_time": "2019-10-22T17:21:04.451945Z"
        },
        "trusted": true
      },
      "cell_type": "code",
      "source": "# 尚未過期的活動\ntoday = datetime.today().date()\nprint(today)\nrecent = activity_df[activity_df['開始時間']>=today]\nprint(recent)",
      "execution_count": 4,
      "outputs": [
        {
          "output_type": "stream",
          "text": "2019-10-22\n          張貼日                                             標題       開始時間  \\\n28 2019-09-27                                  商學院統計學(一)補救教學 2019-12-03   \n35 2019-09-24                           華語教師學分學程專題演講—華語教學甘苦談 2019-11-26   \n5  2019-10-17  11月22日(五)「Fusion 360 Generative Design」課程報名通知 2019-11-22   \n2  2019-10-17          11月21日(四)「MATLAB用於機器人與自主系統演算法的開發」訓練課程 2019-11-21   \n39 2019-09-24                           歷文所專題演講：臺灣早期傳統服飾刺繡探討 2019-11-21   \n19 2019-10-07                              企業管理學系_統計分析方法專題演講 2019-11-21   \n0  2019-10-22    【通識沙龍】108.11.19 – 108.11.29 節目單 (地點：人言大樓十樓) 2019-11-19   \n1  2019-10-21                 108學年度第一學期光電科學與工程學系業師授課(11/13) 2019-11-13   \n18 2019-10-08                              108-1 大學國文專題演講（二） 2019-11-11   \n4  2019-10-17       11月9日「Python 運算思維增能－APCS介紹與試題實作教師研習」活動通知 2019-11-09   \n32 2019-09-25                   華語教師學分學程專題演講—教學成功之路─談創意華語教學法 2019-11-07   \n23 2019-10-03               108學年度第一學期國際經營與貿易學系海外交流研討會(11/5) 2019-11-05   \n24 2019-10-02  10月31日(四)「用MATLAB於GPU 進行影像處理/電腦視覺之深度學習應用」訓練課程 2019-10-31   \n8  2019-10-14         108學年度上學期專題課程『基礎影音製作』專題演講【短片拍攝前置工作面面觀】 2019-10-30   \n3  2019-10-17                  108學年度上學期專題製作課程「非洲的挑戰!農業」校外教學 2019-10-26   \n13 2019-10-09      【通識沙龍】108.10.25-108.11.18 節目單 (地點：人言大樓十樓) 2019-10-25   \n14 2019-10-08                 108學年度第一學期光電科學與工程學系業師授課(10/23) 2019-10-23   \n10 2019-10-14        108學年度上學期專題課程『觀光美儀與國際禮儀』專題演講【社會新鮮人職場彩妝】 2019-10-23   \n40 2019-09-24                         華語教師學分學程專題演講—華語課堂多媒體實作 2019-10-23   \n\n         截止時間                                                 連結  \n28 2019-12-26  http://news.fcu.edu.tw/wSite/ct?xItem=583F2F7F...  \n35 2019-11-26  http://news.fcu.edu.tw/wSite/ct?xItem=10568CA5...  \n5  2019-11-22  http://news.fcu.edu.tw/wSite/ct?xItem=89459ABE...  \n2  2019-11-21  http://news.fcu.edu.tw/wSite/ct?xItem=45D4CC64...  \n39 2019-11-21  http://news.fcu.edu.tw/wSite/ct?xItem=74A685AE...  \n19 2019-11-21  http://news.fcu.edu.tw/wSite/ct?xItem=5651CE05...  \n0  2019-11-29  http://news.fcu.edu.tw/wSite/ct?xItem=221360BC...  \n1  2019-11-13  http://news.fcu.edu.tw/wSite/ct?xItem=40FD310D...  \n18 2019-11-11  http://news.fcu.edu.tw/wSite/ct?xItem=D87E35B3...  \n4  2019-11-09  http://news.fcu.edu.tw/wSite/ct?xItem=753424BE...  \n32 2019-11-07  http://news.fcu.edu.tw/wSite/ct?xItem=73D14125...  \n23 2019-11-05  http://news.fcu.edu.tw/wSite/ct?xItem=C3457E2A...  \n24 2019-10-31  http://news.fcu.edu.tw/wSite/ct?xItem=438976C7...  \n8  2019-10-30  http://news.fcu.edu.tw/wSite/ct?xItem=A73C9C61...  \n3  2019-10-26  http://news.fcu.edu.tw/wSite/ct?xItem=5D3E65D4...  \n13 2019-11-18  http://news.fcu.edu.tw/wSite/ct?xItem=E3E111BC...  \n14 2019-10-23  http://news.fcu.edu.tw/wSite/ct?xItem=051B4519...  \n10 2019-10-23  http://news.fcu.edu.tw/wSite/ct?xItem=FDA4A757...  \n40 2019-10-23  http://news.fcu.edu.tw/wSite/ct?xItem=CA2C8193...  \n",
          "name": "stdout"
        },
        {
          "output_type": "stream",
          "text": "/home/nbuser/anaconda3_501/lib/python3.6/site-packages/ipykernel/__main__.py:4: FutureWarning: Comparing Series of datetimes with 'datetime.date'.  Currently, the\n'datetime.date' is coerced to a datetime. In the future pandas will\nnot coerce, and a TypeError will be raised. To retain the current\nbehavior, convert the 'datetime.date' to a datetime with\n'pd.Timestamp'.\n",
          "name": "stderr"
        }
      ]
    },
    {
      "metadata": {
        "ExecuteTime": {
          "start_time": "2019-10-22T17:21:08.054629Z",
          "end_time": "2019-10-22T17:21:08.079123Z"
        },
        "trusted": true,
        "scrolled": true
      },
      "cell_type": "code",
      "source": "keyword = '課程'\nkeyword_recent = recent[recent['標題'].str.lower().str.contains(keyword.lower())]\nprint(keyword_recent)",
      "execution_count": 5,
      "outputs": [
        {
          "output_type": "stream",
          "text": "          張貼日                                             標題       開始時間  \\\n5  2019-10-17  11月22日(五)「Fusion 360 Generative Design」課程報名通知 2019-11-22   \n2  2019-10-17          11月21日(四)「MATLAB用於機器人與自主系統演算法的開發」訓練課程 2019-11-21   \n24 2019-10-02  10月31日(四)「用MATLAB於GPU 進行影像處理/電腦視覺之深度學習應用」訓練課程 2019-10-31   \n8  2019-10-14         108學年度上學期專題課程『基礎影音製作』專題演講【短片拍攝前置工作面面觀】 2019-10-30   \n3  2019-10-17                  108學年度上學期專題製作課程「非洲的挑戰!農業」校外教學 2019-10-26   \n10 2019-10-14        108學年度上學期專題課程『觀光美儀與國際禮儀』專題演講【社會新鮮人職場彩妝】 2019-10-23   \n\n         截止時間                                                 連結  \n5  2019-11-22  http://news.fcu.edu.tw/wSite/ct?xItem=89459ABE...  \n2  2019-11-21  http://news.fcu.edu.tw/wSite/ct?xItem=45D4CC64...  \n24 2019-10-31  http://news.fcu.edu.tw/wSite/ct?xItem=438976C7...  \n8  2019-10-30  http://news.fcu.edu.tw/wSite/ct?xItem=A73C9C61...  \n3  2019-10-26  http://news.fcu.edu.tw/wSite/ct?xItem=5D3E65D4...  \n10 2019-10-23  http://news.fcu.edu.tw/wSite/ct?xItem=FDA4A757...  \n",
          "name": "stdout"
        }
      ]
    },
    {
      "metadata": {
        "ExecuteTime": {
          "start_time": "2018-10-09T09:55:51.004646Z",
          "end_time": "2018-10-09T09:55:51.037563Z"
        }
      },
      "cell_type": "markdown",
      "source": "# 練習抓取校園其他網頁\nhttp://news.fcu.edu.tw/wSite/np?ctNode=14979&mp=9000  \n\n校園活動(依活動開始日排序)  \nhttp://news.fcu.edu.tw/wSite/lp?ctNode=34436&mp=9000  \n\n校園新聞  \nhttp://news.fcu.edu.tw/wSite/lp?ctNode=15360&mp=9000  \n\n校園公告  \nhttp://news.fcu.edu.tw/wSite/lp?ctNode=14980&mp=9000  \n\n校園演講  \nhttp://news.fcu.edu.tw/wSite/lp?ctNode=15362&mp=9000  "
    },
    {
      "metadata": {
        "ExecuteTime": {
          "start_time": "2019-10-22T17:21:11.924947Z",
          "end_time": "2019-10-22T17:21:13.171389Z"
        },
        "trusted": true
      },
      "cell_type": "code",
      "source": "# your code\n# 校園新聞\n\nimport requests\nfrom bs4 import BeautifulSoup as bs\nimport pandas as pd\n\nrow_title = [] #欄位標題\n\npost_date_f = [] #\ntitle_f = []\nlink_f = []\n\nr = requests.get(\"http://news.fcu.edu.tw/wSite/lp?ctNode=15360&mp=9000&pagesize=100\")\nsoup = bs(r.text,\"lxml\")\ntable = soup.find('table',{'class':'tb'})\n\n# 欄位標題\nfor title in table.find('tr').find_all('th'):\n    row_title.append(title.text.strip())\nrow_title.append('連結')\n\n# 讀取欄位值\nfor row in table.find_all('tr')[1:]:\n    fields = row.find_all('td')\n    \n    post_date = fields[0].text.strip()\n    title = fields[1].text.strip()\n    link = 'http://news.fcu.edu.tw/wSite/'+fields[1].find('a', href=True).get('href')\n    \n    post_date_f.append(post_date)\n    title_f.append(title)\n    link_f.append(link)\n\n# 資料儲存成 dataframe\nactivity_df = pd.DataFrame({row_title[0]:post_date_f,row_title[1]:title_f,row_title[2]:link_f})\nactivity_df.head()\n\n# 處理日期格式\nfrom datetime import datetime\nfrom dateutil import parser\n\nactivity_df['張貼日'] =  pd.to_datetime(activity_df['張貼日'], format='%Y-%m-%d')\n\nkeyword = '課程'\nkeyword_recent = activity_df[activity_df['標題'].str.lower().str.contains(keyword.lower())]\nprint(keyword_recent)",
      "execution_count": 6,
      "outputs": [
        {
          "output_type": "stream",
          "text": "          張貼日                            標題  \\\n20 2013-10-31             統籌課程101學年度工作成果座談會   \n21 2013-10-27   商學院專案管理證照班「專案規劃師CPMS認證輔導」課程   \n25 2013-10-23              歡迎報名 TOEFL短期輔導課程   \n34 2013-10-15    工學院 精密系統設計學程 / 個體化美學設計課程之三   \n46 2013-10-07  公告102學年度 大一新生一人一急救證照訓練課程活動時間   \n59 2013-09-27          102學年度第1學期個案教學體驗系列課程   \n61 2013-09-27                    專題式課程招生說明會   \n75 2013-09-18     102學年度第一學期普通物理統籌科目-補救教學課程   \n81 2013-09-16             102上通識基礎課程文明史專題演講   \n\n                                                   連結  \n20  http://news.fcu.edu.tw/wSite/ct?xItem=06659EC2...  \n21  http://news.fcu.edu.tw/wSite/ct?xItem=BA27AB34...  \n25  http://news.fcu.edu.tw/wSite/ct?xItem=1D2BCCB0...  \n34  http://news.fcu.edu.tw/wSite/ct?xItem=53CFD634...  \n46  http://news.fcu.edu.tw/wSite/ct?xItem=956005B9...  \n59  http://news.fcu.edu.tw/wSite/ct?xItem=5C8AE8F3...  \n61  http://news.fcu.edu.tw/wSite/ct?xItem=A8D8521A...  \n75  http://news.fcu.edu.tw/wSite/ct?xItem=F3BDB424...  \n81  http://news.fcu.edu.tw/wSite/ct?xItem=899F999D...  \n",
          "name": "stdout"
        }
      ]
    }
  ],
  "metadata": {
    "kernelspec": {
      "name": "python36",
      "display_name": "Python 3.6",
      "language": "python"
    },
    "language_info": {
      "mimetype": "text/x-python",
      "nbconvert_exporter": "python",
      "name": "python",
      "pygments_lexer": "ipython3",
      "version": "3.6.6",
      "file_extension": ".py",
      "codemirror_mode": {
        "version": 3,
        "name": "ipython"
      }
    },
    "toc": {
      "nav_menu": {},
      "number_sections": true,
      "sideBar": true,
      "skip_h1_title": false,
      "base_numbering": 1,
      "title_cell": "Table of Contents",
      "title_sidebar": "Contents",
      "toc_cell": false,
      "toc_position": {},
      "toc_section_display": true,
      "toc_window_display": true
    },
    "varInspector": {
      "window_display": false,
      "cols": {
        "lenName": 16,
        "lenType": 16,
        "lenVar": 40
      },
      "kernels_config": {
        "python": {
          "library": "var_list.py",
          "delete_cmd_prefix": "del ",
          "delete_cmd_postfix": "",
          "varRefreshCmd": "print(var_dic_list())"
        },
        "r": {
          "library": "var_list.r",
          "delete_cmd_prefix": "rm(",
          "delete_cmd_postfix": ") ",
          "varRefreshCmd": "cat(var_dic_list()) "
        }
      },
      "types_to_exclude": [
        "module",
        "function",
        "builtin_function_or_method",
        "instance",
        "_Feature"
      ]
    }
  },
  "nbformat": 4,
  "nbformat_minor": 2
}