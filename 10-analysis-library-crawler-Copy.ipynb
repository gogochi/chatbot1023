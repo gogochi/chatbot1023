{
  "cells": [
    {
      "metadata": {
        "collapsed": true
      },
      "cell_type": "markdown",
      "source": "# 圖書館課程爬蟲"
    },
    {
      "metadata": {},
      "cell_type": "markdown",
      "source": "## 怎麼知道有幾頁?  \n\n課程首頁  \nhttp://web.lib.fcu.edu.tw/ilworkshop/taxonomy/term/5  \n\n課程頁面  \nhttp://web.lib.fcu.edu.tw/ilworkshop/taxonomy/term/5?page=1  "
    },
    {
      "metadata": {
        "ExecuteTime": {
          "start_time": "2019-11-07T04:03:39.293779Z",
          "end_time": "2019-11-07T04:03:39.913652Z"
        },
        "trusted": true
      },
      "cell_type": "code",
      "source": "import requests\nfrom bs4 import Tag, BeautifulSoup as bs\nimport re\n# 莊文明\ndef get_page_num(link):\n    r = requests.get(link)\n    soup = bs(r.text, \"lxml\")\n    content = soup.find('a', {'title': '到最後一頁'},href=True).get('href')\n    page_num = int(re.findall(r\"[0-9]+\",content)[1])\n\n    return page_num\n\npage_num = get_page_num('http://web.lib.fcu.edu.tw/ilworkshop/taxonomy/term/5')\npage_link = 'http://web.lib.fcu.edu.tw/ilworkshop/taxonomy/term/5?page={0}'\npage_num",
      "execution_count": 2,
      "outputs": [
        {
          "output_type": "execute_result",
          "execution_count": 2,
          "data": {
            "text/plain": "49"
          },
          "metadata": {}
        }
      ]
    },
    {
      "metadata": {},
      "cell_type": "markdown",
      "source": "## 有那些重要欄位?  \nhttp://web.lib.fcu.edu.tw/ilworkshop/workshops/20150702-146.html"
    },
    {
      "metadata": {
        "ExecuteTime": {
          "start_time": "2019-11-07T04:03:46.009136Z",
          "end_time": "2019-11-07T04:03:46.036316Z"
        },
        "trusted": true
      },
      "cell_type": "code",
      "source": "row_title = ['tag1','tag2','課程編號', '主題', '講者', '開始時間','結束時間', '總計分鐘數', \n             '地點', '適合對象', '限制人數', '已報名人數','已爆滿','描述','講義檔案名稱','講義網址','網址']  # 欄位標題\n\ntag1_f = []\ntag2_f = []\ntitle_f = []\nlink_f = []\nstart_date_f = []\nend_date_f = []\ndescription_f = []\naudience_f = []\n\nspeaker_f = []\nid_f = []\ntime_m_f = []\nlocation_f = []\nlimit_f = []\nregister_f = []\nfull_f = []\nfile_name_f = []\nfile_link_f = []",
      "execution_count": 3,
      "outputs": []
    },
    {
      "metadata": {},
      "cell_type": "markdown",
      "source": "## 如何抓取頁面欄位\n\nhttp://web.lib.fcu.edu.tw/ilworkshop/taxonomy/term/5?page=1  \ntag, 主題, 開始時間, 結束時間, 適合對象, 描述, 網址  \n\nhttp://web.lib.fcu.edu.tw/ilworkshop/workshops/20150209-107.html  \n課程編號, 講者, 總計分鐘數, 地點, 限制人數, 已報名人數, 已爆滿, 講義  "
    },
    {
      "metadata": {
        "ExecuteTime": {
          "start_time": "2019-11-07T04:03:49.923767Z",
          "end_time": "2019-11-07T04:03:49.939275Z"
        },
        "trusted": true
      },
      "cell_type": "code",
      "source": "import requests\nfrom bs4 import Tag, BeautifulSoup as bs\nimport re",
      "execution_count": 4,
      "outputs": []
    },
    {
      "metadata": {
        "ExecuteTime": {
          "start_time": "2019-11-07T04:03:52.747754Z",
          "end_time": "2019-11-07T04:03:52.814114Z"
        },
        "trusted": true
      },
      "cell_type": "code",
      "source": "def get_content(link):\n    print(link)\n    id = ''\n    speaker = ''\n    time_m = ''\n    location = ''\n    limiit_num = ''\n    register = ''\n    full = ''\n    file_name = ''\n    file_link = ''\n\n    r = requests.get(link)\n    soup = bs(r.text, \"lxml\")\n    content = soup.find('div', {'class': 'region region-content'})\n    id = content.find('div', {'class': 'field field-name-field-workshop-id field-type-text field-label-inline clearfix'}).find('div', {'class': 'field-item even'}).text.strip()\n    speaker = content.find('div', {'class': 'field field-name-field-workshop-speaker field-type-text field-label-inline clearfix'}).find('div', {'class': 'field-item even'}).text.strip()\n    time = content.find('div', {'class': 'field field-name-field-workshop-times field-type-number-integer field-label-inline clearfix'})\n    if time != None:\n        time = time.find('div', {'class': 'field-item even'}).text.strip()\n        time_m = int(re.findall(r\"[0-9]+\", time)[0])\n\n    location = content.find('div', {'class': 'field field-name-field-workshop-location field-type-list-text field-label-inline clearfix'})\n    if location != None:\n        location = location.find('div', {'class': 'field-item even'}).text.strip()\n\n    limit = content.find('div', {'class': 'field field-name-field-workshop-limit field-type-number-integer field-label-inline clearfix'})\n    if limit != None:\n        limit = limit.find('div', {'class': 'field-item even'}).text.strip()\n        nums = re.findall(r\"[0-9]+\",limit)\n        limiit_num = int(nums[0])\n        if '已額滿' in limit:\n            register = limiit_num\n            full = 1\n        else:\n            register = int(nums[1])\n            full = 0\n    file = content.find('div', {'class': 'field field-name-field-workshop-dlfile field-type-file field-label-above'})\n    if file != None:\n        file_name = file.find('a', href=True).get('title')\n        file_link = file.find('a', href=True).get('href')\n\n    return id,speaker,time_m,location,limiit_num,register,full,file_name,file_link",
      "execution_count": 5,
      "outputs": []
    },
    {
      "metadata": {
        "trusted": true,
        "ExecuteTime": {
          "start_time": "2019-11-07T04:03:57.363104Z",
          "end_time": "2019-11-07T04:03:57.403803Z"
        }
      },
      "cell_type": "code",
      "source": "def get_view_content(link):\n    r = requests.get(link)\n    soup = bs(r.text, \"lxml\")\n    view_content = soup.find('div',{'class':'view-content'})\n\n    for child in view_content.children:\n        if isinstance(child, Tag):\n            tags = child.find('div', {'class': 'tags'})\n            tag1 = tags.find_all('a', href=True)[0].text.strip()\n            tag2 = tags.find_all('a', href=True)[1].text.strip()\n            tag1_f.append(tag1)\n            tag2_f.append(tag2)\n\n            title = child.find('h3', {'class': 'title'})\n            title_f.append(title.text.strip())\n\n            link = 'http://web.lib.fcu.edu.tw/' + title.find('a', href=True).get('href')\n            link_f.append(link)\n\n            start = child.find('span', {'class': 'date-display-start'}).get('content').strip()\n            end = child.find('span', {'class': 'date-display-end'}).get('content').strip()\n            start_date_f.append(start)\n            end_date_f.append(end)\n\n            desc = child.find('div', {'class': 'description'})\n            if desc != None:\n                description_f.append(desc.text.strip())\n            else:\n                description_f.append('')\n\n            audience = child.find('div', {'class': 'participants'}).text.replace('適合對象: ','').strip()\n            audience_f.append(audience)\n\n            id, speaker, time,location, limilt_num, register, full,file_name,file_link = get_content(link)\n            id_f.append(id)\n            speaker_f.append(speaker)\n            time_m_f.append(time)\n            location_f.append(location)\n            limit_f.append(limilt_num)\n            register_f.append(register)\n            full_f.append(full)\n            file_name_f.append(file_name)\n            file_link_f.append(file_link)",
      "execution_count": 6,
      "outputs": []
    },
    {
      "metadata": {
        "ExecuteTime": {
          "start_time": "2019-11-07T04:04:02.81469Z",
          "end_time": "2019-11-07T04:04:23.420915Z"
        },
        "trusted": true
      },
      "cell_type": "code",
      "source": "for n in range(page_num-48):\n    print('page ',n)\n    link = page_link.format(n)\n    get_view_content(link)",
      "execution_count": 7,
      "outputs": [
        {
          "output_type": "stream",
          "text": "page  0\nhttp://web.lib.fcu.edu.tw//ilworkshop/workshops/20150702-146.html\nhttp://web.lib.fcu.edu.tw//ilworkshop/workshops/20150701-144.html\nhttp://web.lib.fcu.edu.tw//ilworkshop/workshops/20150701-143.html\nhttp://web.lib.fcu.edu.tw//ilworkshop/workshops/20150629-142.html\nhttp://web.lib.fcu.edu.tw//ilworkshop/workshops/20150629-141.html\nhttp://web.lib.fcu.edu.tw//ilworkshop/workshops/20150629-140.html\nhttp://web.lib.fcu.edu.tw//ilworkshop/workshops/20150629-139.html\nhttp://web.lib.fcu.edu.tw//ilworkshop/workshops/20150624-137.html\nhttp://web.lib.fcu.edu.tw//ilworkshop/workshops/20150624-136.html\nhttp://web.lib.fcu.edu.tw//ilworkshop/workshops/20150530-132.html\n",
          "name": "stdout"
        }
      ]
    },
    {
      "metadata": {
        "trusted": true,
        "ExecuteTime": {
          "start_time": "2019-11-07T04:04:34.528108Z",
          "end_time": "2019-11-07T04:04:41.897118Z"
        }
      },
      "cell_type": "code",
      "source": "import pandas as pd\n\n# 資料儲存成 dataframe\nprint(row_title)\n#row_title = ['tag1','tag2','課程編號', '講者', '開始時間','結束時間', '總計分鐘數', '地點', '適合對象', '限制人數', '已報名人數','已爆滿','描述','網址']  # 欄位標題\nlibrary_df = pd.DataFrame({ row_title[0]:tag1_f,\n                            row_title[1]:tag2_f,\n                            row_title[2]:id_f,\n                            row_title[3]:title_f,\n                            row_title[4]:speaker_f,\n                            row_title[5]:start_date_f,\n                            row_title[6]:end_date_f,\n                            row_title[7]:time_m_f,\n                            row_title[8]:location_f,\n                            row_title[9]:audience_f,\n                            row_title[10]:limit_f,\n                            row_title[11]:register_f,\n                            row_title[12]: full_f,\n                            row_title[13]: description_f,\n                            row_title[14]: file_name_f,\n                            row_title[15]: file_link_f,\n                            row_title[16]: link_f})\n\nlibrary_df.head()\nwriter = pd.ExcelWriter('library.xlsx',options={'strings_to_urls': True})\nlibrary_df.to_excel(writer, 'workshop',index=False,encoding=\"utf-8\")\nwriter.save()",
      "execution_count": 8,
      "outputs": [
        {
          "output_type": "stream",
          "text": "['tag1', 'tag2', '課程編號', '主題', '講者', '開始時間', '結束時間', '總計分鐘數', '地點', '適合對象', '限制人數', '已報名人數', '已爆滿', '描述', '講義檔案名稱', '講義網址', '網址']\n",
          "name": "stdout"
        }
      ]
    }
  ],
  "metadata": {
    "kernelspec": {
      "name": "python36",
      "display_name": "Python 3.6",
      "language": "python"
    },
    "language_info": {
      "mimetype": "text/x-python",
      "nbconvert_exporter": "python",
      "name": "python",
      "pygments_lexer": "ipython3",
      "version": "3.6.6",
      "file_extension": ".py",
      "codemirror_mode": {
        "version": 3,
        "name": "ipython"
      }
    },
    "toc": {
      "nav_menu": {},
      "number_sections": true,
      "sideBar": true,
      "skip_h1_title": false,
      "base_numbering": 1,
      "title_cell": "Table of Contents",
      "title_sidebar": "Contents",
      "toc_cell": false,
      "toc_position": {},
      "toc_section_display": true,
      "toc_window_display": false
    },
    "varInspector": {
      "window_display": false,
      "cols": {
        "lenName": 16,
        "lenType": 16,
        "lenVar": 40
      },
      "kernels_config": {
        "python": {
          "library": "var_list.py",
          "delete_cmd_prefix": "del ",
          "delete_cmd_postfix": "",
          "varRefreshCmd": "print(var_dic_list())"
        },
        "r": {
          "library": "var_list.r",
          "delete_cmd_prefix": "rm(",
          "delete_cmd_postfix": ") ",
          "varRefreshCmd": "cat(var_dic_list()) "
        }
      },
      "types_to_exclude": [
        "module",
        "function",
        "builtin_function_or_method",
        "instance",
        "_Feature"
      ]
    }
  },
  "nbformat": 4,
  "nbformat_minor": 2
}